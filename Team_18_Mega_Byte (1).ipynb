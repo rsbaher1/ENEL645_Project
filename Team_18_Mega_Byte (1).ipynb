{
  "nbformat": 4,
  "nbformat_minor": 0,
  "metadata": {
    "kernelspec": {
      "display_name": "Python 3",
      "language": "python",
      "name": "python3"
    },
    "language_info": {
      "codemirror_mode": {
        "name": "ipython",
        "version": 3
      },
      "file_extension": ".py",
      "mimetype": "text/x-python",
      "name": "python",
      "nbconvert_exporter": "python",
      "pygments_lexer": "ipython3",
      "version": "3.7.6"
    },
    "colab": {
      "name": "Team_18_Mega_Byte.ipynb",
      "provenance": [],
      "collapsed_sections": [],
      "toc_visible": true
    },
    "widgets": {
      "application/vnd.jupyter.widget-state+json": {
        "9309a49954a04b38a736371605ef91c8": {
          "model_module": "@jupyter-widgets/controls",
          "model_name": "HBoxModel",
          "state": {
            "_view_name": "HBoxView",
            "_dom_classes": [],
            "_model_name": "HBoxModel",
            "_view_module": "@jupyter-widgets/controls",
            "_model_module_version": "1.5.0",
            "_view_count": null,
            "_view_module_version": "1.5.0",
            "box_style": "",
            "layout": "IPY_MODEL_047721bd592749e08097eaa6d7500cc3",
            "_model_module": "@jupyter-widgets/controls",
            "children": [
              "IPY_MODEL_b4683ab435a04a56820de6602cd37e0c",
              "IPY_MODEL_1d087813918d4504a75a62bb71b9c3fc"
            ]
          }
        },
        "047721bd592749e08097eaa6d7500cc3": {
          "model_module": "@jupyter-widgets/base",
          "model_name": "LayoutModel",
          "state": {
            "_view_name": "LayoutView",
            "grid_template_rows": null,
            "right": null,
            "justify_content": null,
            "_view_module": "@jupyter-widgets/base",
            "overflow": null,
            "_model_module_version": "1.2.0",
            "_view_count": null,
            "flex_flow": null,
            "width": null,
            "min_width": null,
            "border": null,
            "align_items": null,
            "bottom": null,
            "_model_module": "@jupyter-widgets/base",
            "top": null,
            "grid_column": null,
            "overflow_y": null,
            "overflow_x": null,
            "grid_auto_flow": null,
            "grid_area": null,
            "grid_template_columns": null,
            "flex": null,
            "_model_name": "LayoutModel",
            "justify_items": null,
            "grid_row": null,
            "max_height": null,
            "align_content": null,
            "visibility": null,
            "align_self": null,
            "height": null,
            "min_height": null,
            "padding": null,
            "grid_auto_rows": null,
            "grid_gap": null,
            "max_width": null,
            "order": null,
            "_view_module_version": "1.2.0",
            "grid_template_areas": null,
            "object_position": null,
            "object_fit": null,
            "grid_auto_columns": null,
            "margin": null,
            "display": null,
            "left": null
          }
        },
        "b4683ab435a04a56820de6602cd37e0c": {
          "model_module": "@jupyter-widgets/controls",
          "model_name": "FloatProgressModel",
          "state": {
            "_view_name": "ProgressView",
            "style": "IPY_MODEL_ca171e71bb4745e28c2346385565f5d5",
            "_dom_classes": [],
            "description": "Dl Completed...: 100%",
            "_model_name": "FloatProgressModel",
            "bar_style": "success",
            "max": 1,
            "_view_module": "@jupyter-widgets/controls",
            "_model_module_version": "1.5.0",
            "value": 1,
            "_view_count": null,
            "_view_module_version": "1.5.0",
            "orientation": "horizontal",
            "min": 0,
            "description_tooltip": null,
            "_model_module": "@jupyter-widgets/controls",
            "layout": "IPY_MODEL_67e5e632324849f0858b153cc1ec252c"
          }
        },
        "1d087813918d4504a75a62bb71b9c3fc": {
          "model_module": "@jupyter-widgets/controls",
          "model_name": "HTMLModel",
          "state": {
            "_view_name": "HTMLView",
            "style": "IPY_MODEL_21906aa722e24cd48872d0e194ddd001",
            "_dom_classes": [],
            "description": "",
            "_model_name": "HTMLModel",
            "placeholder": "​",
            "_view_module": "@jupyter-widgets/controls",
            "_model_module_version": "1.5.0",
            "value": " 1/1 [06:01&lt;00:00, 361.24s/ url]",
            "_view_count": null,
            "_view_module_version": "1.5.0",
            "description_tooltip": null,
            "_model_module": "@jupyter-widgets/controls",
            "layout": "IPY_MODEL_238b762934f7447ba3f29f9b96fb5884"
          }
        },
        "ca171e71bb4745e28c2346385565f5d5": {
          "model_module": "@jupyter-widgets/controls",
          "model_name": "ProgressStyleModel",
          "state": {
            "_view_name": "StyleView",
            "_model_name": "ProgressStyleModel",
            "description_width": "initial",
            "_view_module": "@jupyter-widgets/base",
            "_model_module_version": "1.5.0",
            "_view_count": null,
            "_view_module_version": "1.2.0",
            "bar_color": null,
            "_model_module": "@jupyter-widgets/controls"
          }
        },
        "67e5e632324849f0858b153cc1ec252c": {
          "model_module": "@jupyter-widgets/base",
          "model_name": "LayoutModel",
          "state": {
            "_view_name": "LayoutView",
            "grid_template_rows": null,
            "right": null,
            "justify_content": null,
            "_view_module": "@jupyter-widgets/base",
            "overflow": null,
            "_model_module_version": "1.2.0",
            "_view_count": null,
            "flex_flow": null,
            "width": null,
            "min_width": null,
            "border": null,
            "align_items": null,
            "bottom": null,
            "_model_module": "@jupyter-widgets/base",
            "top": null,
            "grid_column": null,
            "overflow_y": null,
            "overflow_x": null,
            "grid_auto_flow": null,
            "grid_area": null,
            "grid_template_columns": null,
            "flex": null,
            "_model_name": "LayoutModel",
            "justify_items": null,
            "grid_row": null,
            "max_height": null,
            "align_content": null,
            "visibility": null,
            "align_self": null,
            "height": null,
            "min_height": null,
            "padding": null,
            "grid_auto_rows": null,
            "grid_gap": null,
            "max_width": null,
            "order": null,
            "_view_module_version": "1.2.0",
            "grid_template_areas": null,
            "object_position": null,
            "object_fit": null,
            "grid_auto_columns": null,
            "margin": null,
            "display": null,
            "left": null
          }
        },
        "21906aa722e24cd48872d0e194ddd001": {
          "model_module": "@jupyter-widgets/controls",
          "model_name": "DescriptionStyleModel",
          "state": {
            "_view_name": "StyleView",
            "_model_name": "DescriptionStyleModel",
            "description_width": "",
            "_view_module": "@jupyter-widgets/base",
            "_model_module_version": "1.5.0",
            "_view_count": null,
            "_view_module_version": "1.2.0",
            "_model_module": "@jupyter-widgets/controls"
          }
        },
        "238b762934f7447ba3f29f9b96fb5884": {
          "model_module": "@jupyter-widgets/base",
          "model_name": "LayoutModel",
          "state": {
            "_view_name": "LayoutView",
            "grid_template_rows": null,
            "right": null,
            "justify_content": null,
            "_view_module": "@jupyter-widgets/base",
            "overflow": null,
            "_model_module_version": "1.2.0",
            "_view_count": null,
            "flex_flow": null,
            "width": null,
            "min_width": null,
            "border": null,
            "align_items": null,
            "bottom": null,
            "_model_module": "@jupyter-widgets/base",
            "top": null,
            "grid_column": null,
            "overflow_y": null,
            "overflow_x": null,
            "grid_auto_flow": null,
            "grid_area": null,
            "grid_template_columns": null,
            "flex": null,
            "_model_name": "LayoutModel",
            "justify_items": null,
            "grid_row": null,
            "max_height": null,
            "align_content": null,
            "visibility": null,
            "align_self": null,
            "height": null,
            "min_height": null,
            "padding": null,
            "grid_auto_rows": null,
            "grid_gap": null,
            "max_width": null,
            "order": null,
            "_view_module_version": "1.2.0",
            "grid_template_areas": null,
            "object_position": null,
            "object_fit": null,
            "grid_auto_columns": null,
            "margin": null,
            "display": null,
            "left": null
          }
        },
        "26d5e778585740f899b70318779394ae": {
          "model_module": "@jupyter-widgets/controls",
          "model_name": "HBoxModel",
          "state": {
            "_view_name": "HBoxView",
            "_dom_classes": [],
            "_model_name": "HBoxModel",
            "_view_module": "@jupyter-widgets/controls",
            "_model_module_version": "1.5.0",
            "_view_count": null,
            "_view_module_version": "1.5.0",
            "box_style": "",
            "layout": "IPY_MODEL_2691f75e484741f5930ee472c21cebea",
            "_model_module": "@jupyter-widgets/controls",
            "children": [
              "IPY_MODEL_1864af06e3bd4ea29c3ed34c49fdc88d",
              "IPY_MODEL_2a0d9499e5614030808a596ae8d7e8f1"
            ]
          }
        },
        "2691f75e484741f5930ee472c21cebea": {
          "model_module": "@jupyter-widgets/base",
          "model_name": "LayoutModel",
          "state": {
            "_view_name": "LayoutView",
            "grid_template_rows": null,
            "right": null,
            "justify_content": null,
            "_view_module": "@jupyter-widgets/base",
            "overflow": null,
            "_model_module_version": "1.2.0",
            "_view_count": null,
            "flex_flow": null,
            "width": null,
            "min_width": null,
            "border": null,
            "align_items": null,
            "bottom": null,
            "_model_module": "@jupyter-widgets/base",
            "top": null,
            "grid_column": null,
            "overflow_y": null,
            "overflow_x": null,
            "grid_auto_flow": null,
            "grid_area": null,
            "grid_template_columns": null,
            "flex": null,
            "_model_name": "LayoutModel",
            "justify_items": null,
            "grid_row": null,
            "max_height": null,
            "align_content": null,
            "visibility": null,
            "align_self": null,
            "height": null,
            "min_height": null,
            "padding": null,
            "grid_auto_rows": null,
            "grid_gap": null,
            "max_width": null,
            "order": null,
            "_view_module_version": "1.2.0",
            "grid_template_areas": null,
            "object_position": null,
            "object_fit": null,
            "grid_auto_columns": null,
            "margin": null,
            "display": null,
            "left": null
          }
        },
        "1864af06e3bd4ea29c3ed34c49fdc88d": {
          "model_module": "@jupyter-widgets/controls",
          "model_name": "FloatProgressModel",
          "state": {
            "_view_name": "ProgressView",
            "style": "IPY_MODEL_1e8be40a2c584de6b5e7748d27560c62",
            "_dom_classes": [],
            "description": "Dl Size...: 100%",
            "_model_name": "FloatProgressModel",
            "bar_style": "success",
            "max": 1,
            "_view_module": "@jupyter-widgets/controls",
            "_model_module_version": "1.5.0",
            "value": 1,
            "_view_count": null,
            "_view_module_version": "1.5.0",
            "orientation": "horizontal",
            "min": 0,
            "description_tooltip": null,
            "_model_module": "@jupyter-widgets/controls",
            "layout": "IPY_MODEL_bbc47b806dd348938bfc01ef27312336"
          }
        },
        "2a0d9499e5614030808a596ae8d7e8f1": {
          "model_module": "@jupyter-widgets/controls",
          "model_name": "HTMLModel",
          "state": {
            "_view_name": "HTMLView",
            "style": "IPY_MODEL_8bf25e1dbde44dd49f33cee95fc2681a",
            "_dom_classes": [],
            "description": "",
            "_model_name": "HTMLModel",
            "placeholder": "​",
            "_view_module": "@jupyter-widgets/controls",
            "_model_module_version": "1.5.0",
            "value": " 4764/4764 [06:01&lt;00:00, 13.19 MiB/s]",
            "_view_count": null,
            "_view_module_version": "1.5.0",
            "description_tooltip": null,
            "_model_module": "@jupyter-widgets/controls",
            "layout": "IPY_MODEL_1f16c58680ba457292fafcf1ddf9ccbb"
          }
        },
        "1e8be40a2c584de6b5e7748d27560c62": {
          "model_module": "@jupyter-widgets/controls",
          "model_name": "ProgressStyleModel",
          "state": {
            "_view_name": "StyleView",
            "_model_name": "ProgressStyleModel",
            "description_width": "initial",
            "_view_module": "@jupyter-widgets/base",
            "_model_module_version": "1.5.0",
            "_view_count": null,
            "_view_module_version": "1.2.0",
            "bar_color": null,
            "_model_module": "@jupyter-widgets/controls"
          }
        },
        "bbc47b806dd348938bfc01ef27312336": {
          "model_module": "@jupyter-widgets/base",
          "model_name": "LayoutModel",
          "state": {
            "_view_name": "LayoutView",
            "grid_template_rows": null,
            "right": null,
            "justify_content": null,
            "_view_module": "@jupyter-widgets/base",
            "overflow": null,
            "_model_module_version": "1.2.0",
            "_view_count": null,
            "flex_flow": null,
            "width": null,
            "min_width": null,
            "border": null,
            "align_items": null,
            "bottom": null,
            "_model_module": "@jupyter-widgets/base",
            "top": null,
            "grid_column": null,
            "overflow_y": null,
            "overflow_x": null,
            "grid_auto_flow": null,
            "grid_area": null,
            "grid_template_columns": null,
            "flex": null,
            "_model_name": "LayoutModel",
            "justify_items": null,
            "grid_row": null,
            "max_height": null,
            "align_content": null,
            "visibility": null,
            "align_self": null,
            "height": null,
            "min_height": null,
            "padding": null,
            "grid_auto_rows": null,
            "grid_gap": null,
            "max_width": null,
            "order": null,
            "_view_module_version": "1.2.0",
            "grid_template_areas": null,
            "object_position": null,
            "object_fit": null,
            "grid_auto_columns": null,
            "margin": null,
            "display": null,
            "left": null
          }
        },
        "8bf25e1dbde44dd49f33cee95fc2681a": {
          "model_module": "@jupyter-widgets/controls",
          "model_name": "DescriptionStyleModel",
          "state": {
            "_view_name": "StyleView",
            "_model_name": "DescriptionStyleModel",
            "description_width": "",
            "_view_module": "@jupyter-widgets/base",
            "_model_module_version": "1.5.0",
            "_view_count": null,
            "_view_module_version": "1.2.0",
            "_model_module": "@jupyter-widgets/controls"
          }
        },
        "1f16c58680ba457292fafcf1ddf9ccbb": {
          "model_module": "@jupyter-widgets/base",
          "model_name": "LayoutModel",
          "state": {
            "_view_name": "LayoutView",
            "grid_template_rows": null,
            "right": null,
            "justify_content": null,
            "_view_module": "@jupyter-widgets/base",
            "overflow": null,
            "_model_module_version": "1.2.0",
            "_view_count": null,
            "flex_flow": null,
            "width": null,
            "min_width": null,
            "border": null,
            "align_items": null,
            "bottom": null,
            "_model_module": "@jupyter-widgets/base",
            "top": null,
            "grid_column": null,
            "overflow_y": null,
            "overflow_x": null,
            "grid_auto_flow": null,
            "grid_area": null,
            "grid_template_columns": null,
            "flex": null,
            "_model_name": "LayoutModel",
            "justify_items": null,
            "grid_row": null,
            "max_height": null,
            "align_content": null,
            "visibility": null,
            "align_self": null,
            "height": null,
            "min_height": null,
            "padding": null,
            "grid_auto_rows": null,
            "grid_gap": null,
            "max_width": null,
            "order": null,
            "_view_module_version": "1.2.0",
            "grid_template_areas": null,
            "object_position": null,
            "object_fit": null,
            "grid_auto_columns": null,
            "margin": null,
            "display": null,
            "left": null
          }
        },
        "24c6034fa8674209b7621eb1065cc3bc": {
          "model_module": "@jupyter-widgets/controls",
          "model_name": "HBoxModel",
          "state": {
            "_view_name": "HBoxView",
            "_dom_classes": [],
            "_model_name": "HBoxModel",
            "_view_module": "@jupyter-widgets/controls",
            "_model_module_version": "1.5.0",
            "_view_count": null,
            "_view_module_version": "1.5.0",
            "box_style": "",
            "layout": "IPY_MODEL_b0ac5d547a854ea2a863e46bf7ad2491",
            "_model_module": "@jupyter-widgets/controls",
            "children": [
              "IPY_MODEL_5d4e3c9097ff49cda7d94add14266103",
              "IPY_MODEL_e3ec548cb32a4c1587a4089ea724ca75"
            ]
          }
        },
        "b0ac5d547a854ea2a863e46bf7ad2491": {
          "model_module": "@jupyter-widgets/base",
          "model_name": "LayoutModel",
          "state": {
            "_view_name": "LayoutView",
            "grid_template_rows": null,
            "right": null,
            "justify_content": null,
            "_view_module": "@jupyter-widgets/base",
            "overflow": null,
            "_model_module_version": "1.2.0",
            "_view_count": null,
            "flex_flow": null,
            "width": null,
            "min_width": null,
            "border": null,
            "align_items": null,
            "bottom": null,
            "_model_module": "@jupyter-widgets/base",
            "top": null,
            "grid_column": null,
            "overflow_y": null,
            "overflow_x": null,
            "grid_auto_flow": null,
            "grid_area": null,
            "grid_template_columns": null,
            "flex": null,
            "_model_name": "LayoutModel",
            "justify_items": null,
            "grid_row": null,
            "max_height": null,
            "align_content": null,
            "visibility": null,
            "align_self": null,
            "height": null,
            "min_height": null,
            "padding": null,
            "grid_auto_rows": null,
            "grid_gap": null,
            "max_width": null,
            "order": null,
            "_view_module_version": "1.2.0",
            "grid_template_areas": null,
            "object_position": null,
            "object_fit": null,
            "grid_auto_columns": null,
            "margin": null,
            "display": null,
            "left": null
          }
        },
        "5d4e3c9097ff49cda7d94add14266103": {
          "model_module": "@jupyter-widgets/controls",
          "model_name": "FloatProgressModel",
          "state": {
            "_view_name": "ProgressView",
            "style": "IPY_MODEL_8a821566128b41ae86b4816b8d03f624",
            "_dom_classes": [],
            "description": "Extraction completed...: 100%",
            "_model_name": "FloatProgressModel",
            "bar_style": "success",
            "max": 1,
            "_view_module": "@jupyter-widgets/controls",
            "_model_module_version": "1.5.0",
            "value": 1,
            "_view_count": null,
            "_view_module_version": "1.5.0",
            "orientation": "horizontal",
            "min": 0,
            "description_tooltip": null,
            "_model_module": "@jupyter-widgets/controls",
            "layout": "IPY_MODEL_de2fd9acef1d4850971911916c11d1b4"
          }
        },
        "e3ec548cb32a4c1587a4089ea724ca75": {
          "model_module": "@jupyter-widgets/controls",
          "model_name": "HTMLModel",
          "state": {
            "_view_name": "HTMLView",
            "style": "IPY_MODEL_13047de9426742a0bed1547cb5f71b8d",
            "_dom_classes": [],
            "description": "",
            "_model_name": "HTMLModel",
            "placeholder": "​",
            "_view_module": "@jupyter-widgets/controls",
            "_model_module_version": "1.5.0",
            "value": " 1/1 [06:01&lt;00:00, 361.14s/ file]",
            "_view_count": null,
            "_view_module_version": "1.5.0",
            "description_tooltip": null,
            "_model_module": "@jupyter-widgets/controls",
            "layout": "IPY_MODEL_3d2d487608484a4ab6f18b983c870a02"
          }
        },
        "8a821566128b41ae86b4816b8d03f624": {
          "model_module": "@jupyter-widgets/controls",
          "model_name": "ProgressStyleModel",
          "state": {
            "_view_name": "StyleView",
            "_model_name": "ProgressStyleModel",
            "description_width": "initial",
            "_view_module": "@jupyter-widgets/base",
            "_model_module_version": "1.5.0",
            "_view_count": null,
            "_view_module_version": "1.2.0",
            "bar_color": null,
            "_model_module": "@jupyter-widgets/controls"
          }
        },
        "de2fd9acef1d4850971911916c11d1b4": {
          "model_module": "@jupyter-widgets/base",
          "model_name": "LayoutModel",
          "state": {
            "_view_name": "LayoutView",
            "grid_template_rows": null,
            "right": null,
            "justify_content": null,
            "_view_module": "@jupyter-widgets/base",
            "overflow": null,
            "_model_module_version": "1.2.0",
            "_view_count": null,
            "flex_flow": null,
            "width": null,
            "min_width": null,
            "border": null,
            "align_items": null,
            "bottom": null,
            "_model_module": "@jupyter-widgets/base",
            "top": null,
            "grid_column": null,
            "overflow_y": null,
            "overflow_x": null,
            "grid_auto_flow": null,
            "grid_area": null,
            "grid_template_columns": null,
            "flex": null,
            "_model_name": "LayoutModel",
            "justify_items": null,
            "grid_row": null,
            "max_height": null,
            "align_content": null,
            "visibility": null,
            "align_self": null,
            "height": null,
            "min_height": null,
            "padding": null,
            "grid_auto_rows": null,
            "grid_gap": null,
            "max_width": null,
            "order": null,
            "_view_module_version": "1.2.0",
            "grid_template_areas": null,
            "object_position": null,
            "object_fit": null,
            "grid_auto_columns": null,
            "margin": null,
            "display": null,
            "left": null
          }
        },
        "13047de9426742a0bed1547cb5f71b8d": {
          "model_module": "@jupyter-widgets/controls",
          "model_name": "DescriptionStyleModel",
          "state": {
            "_view_name": "StyleView",
            "_model_name": "DescriptionStyleModel",
            "description_width": "",
            "_view_module": "@jupyter-widgets/base",
            "_model_module_version": "1.5.0",
            "_view_count": null,
            "_view_module_version": "1.2.0",
            "_model_module": "@jupyter-widgets/controls"
          }
        },
        "3d2d487608484a4ab6f18b983c870a02": {
          "model_module": "@jupyter-widgets/base",
          "model_name": "LayoutModel",
          "state": {
            "_view_name": "LayoutView",
            "grid_template_rows": null,
            "right": null,
            "justify_content": null,
            "_view_module": "@jupyter-widgets/base",
            "overflow": null,
            "_model_module_version": "1.2.0",
            "_view_count": null,
            "flex_flow": null,
            "width": null,
            "min_width": null,
            "border": null,
            "align_items": null,
            "bottom": null,
            "_model_module": "@jupyter-widgets/base",
            "top": null,
            "grid_column": null,
            "overflow_y": null,
            "overflow_x": null,
            "grid_auto_flow": null,
            "grid_area": null,
            "grid_template_columns": null,
            "flex": null,
            "_model_name": "LayoutModel",
            "justify_items": null,
            "grid_row": null,
            "max_height": null,
            "align_content": null,
            "visibility": null,
            "align_self": null,
            "height": null,
            "min_height": null,
            "padding": null,
            "grid_auto_rows": null,
            "grid_gap": null,
            "max_width": null,
            "order": null,
            "_view_module_version": "1.2.0",
            "grid_template_areas": null,
            "object_position": null,
            "object_fit": null,
            "grid_auto_columns": null,
            "margin": null,
            "display": null,
            "left": null
          }
        },
        "a2e73946c3ab49e8b7078bb3d750ed70": {
          "model_module": "@jupyter-widgets/controls",
          "model_name": "HBoxModel",
          "state": {
            "_view_name": "HBoxView",
            "_dom_classes": [],
            "_model_name": "HBoxModel",
            "_view_module": "@jupyter-widgets/controls",
            "_model_module_version": "1.5.0",
            "_view_count": null,
            "_view_module_version": "1.5.0",
            "box_style": "",
            "layout": "IPY_MODEL_982ec3d665e1432ebc133208417cd85c",
            "_model_module": "@jupyter-widgets/controls",
            "children": [
              "IPY_MODEL_94f11a93e6a94f9b91d88ee5800a4dcc",
              "IPY_MODEL_129518978af64536b83134de29638f5d"
            ]
          }
        },
        "982ec3d665e1432ebc133208417cd85c": {
          "model_module": "@jupyter-widgets/base",
          "model_name": "LayoutModel",
          "state": {
            "_view_name": "LayoutView",
            "grid_template_rows": null,
            "right": null,
            "justify_content": null,
            "_view_module": "@jupyter-widgets/base",
            "overflow": null,
            "_model_module_version": "1.2.0",
            "_view_count": null,
            "flex_flow": null,
            "width": null,
            "min_width": null,
            "border": null,
            "align_items": null,
            "bottom": null,
            "_model_module": "@jupyter-widgets/base",
            "top": null,
            "grid_column": null,
            "overflow_y": null,
            "overflow_x": null,
            "grid_auto_flow": null,
            "grid_area": null,
            "grid_template_columns": null,
            "flex": null,
            "_model_name": "LayoutModel",
            "justify_items": null,
            "grid_row": null,
            "max_height": null,
            "align_content": null,
            "visibility": null,
            "align_self": null,
            "height": null,
            "min_height": null,
            "padding": null,
            "grid_auto_rows": null,
            "grid_gap": null,
            "max_width": null,
            "order": null,
            "_view_module_version": "1.2.0",
            "grid_template_areas": null,
            "object_position": null,
            "object_fit": null,
            "grid_auto_columns": null,
            "margin": null,
            "display": null,
            "left": null
          }
        },
        "94f11a93e6a94f9b91d88ee5800a4dcc": {
          "model_module": "@jupyter-widgets/controls",
          "model_name": "FloatProgressModel",
          "state": {
            "_view_name": "ProgressView",
            "style": "IPY_MODEL_7f4505746576422da3141ee629e2eada",
            "_dom_classes": [],
            "description": "",
            "_model_name": "FloatProgressModel",
            "bar_style": "info",
            "max": 1,
            "_view_module": "@jupyter-widgets/controls",
            "_model_module_version": "1.5.0",
            "value": 1,
            "_view_count": null,
            "_view_module_version": "1.5.0",
            "orientation": "horizontal",
            "min": 0,
            "description_tooltip": null,
            "_model_module": "@jupyter-widgets/controls",
            "layout": "IPY_MODEL_4ec4aca49cfb4a11ac869b599f11fcaa"
          }
        },
        "129518978af64536b83134de29638f5d": {
          "model_module": "@jupyter-widgets/controls",
          "model_name": "HTMLModel",
          "state": {
            "_view_name": "HTMLView",
            "style": "IPY_MODEL_27c26daa26df45818b8286bd5f643397",
            "_dom_classes": [],
            "description": "",
            "_model_name": "HTMLModel",
            "placeholder": "​",
            "_view_module": "@jupyter-widgets/controls",
            "_model_module_version": "1.5.0",
            "value": " 75750/0 [02:24&lt;00:00, 649.49 examples/s]",
            "_view_count": null,
            "_view_module_version": "1.5.0",
            "description_tooltip": null,
            "_model_module": "@jupyter-widgets/controls",
            "layout": "IPY_MODEL_bc8f905ff67e4c5080d80bdd7e860405"
          }
        },
        "7f4505746576422da3141ee629e2eada": {
          "model_module": "@jupyter-widgets/controls",
          "model_name": "ProgressStyleModel",
          "state": {
            "_view_name": "StyleView",
            "_model_name": "ProgressStyleModel",
            "description_width": "initial",
            "_view_module": "@jupyter-widgets/base",
            "_model_module_version": "1.5.0",
            "_view_count": null,
            "_view_module_version": "1.2.0",
            "bar_color": null,
            "_model_module": "@jupyter-widgets/controls"
          }
        },
        "4ec4aca49cfb4a11ac869b599f11fcaa": {
          "model_module": "@jupyter-widgets/base",
          "model_name": "LayoutModel",
          "state": {
            "_view_name": "LayoutView",
            "grid_template_rows": null,
            "right": null,
            "justify_content": null,
            "_view_module": "@jupyter-widgets/base",
            "overflow": null,
            "_model_module_version": "1.2.0",
            "_view_count": null,
            "flex_flow": null,
            "width": null,
            "min_width": null,
            "border": null,
            "align_items": null,
            "bottom": null,
            "_model_module": "@jupyter-widgets/base",
            "top": null,
            "grid_column": null,
            "overflow_y": null,
            "overflow_x": null,
            "grid_auto_flow": null,
            "grid_area": null,
            "grid_template_columns": null,
            "flex": null,
            "_model_name": "LayoutModel",
            "justify_items": null,
            "grid_row": null,
            "max_height": null,
            "align_content": null,
            "visibility": null,
            "align_self": null,
            "height": null,
            "min_height": null,
            "padding": null,
            "grid_auto_rows": null,
            "grid_gap": null,
            "max_width": null,
            "order": null,
            "_view_module_version": "1.2.0",
            "grid_template_areas": null,
            "object_position": null,
            "object_fit": null,
            "grid_auto_columns": null,
            "margin": null,
            "display": null,
            "left": null
          }
        },
        "27c26daa26df45818b8286bd5f643397": {
          "model_module": "@jupyter-widgets/controls",
          "model_name": "DescriptionStyleModel",
          "state": {
            "_view_name": "StyleView",
            "_model_name": "DescriptionStyleModel",
            "description_width": "",
            "_view_module": "@jupyter-widgets/base",
            "_model_module_version": "1.5.0",
            "_view_count": null,
            "_view_module_version": "1.2.0",
            "_model_module": "@jupyter-widgets/controls"
          }
        },
        "bc8f905ff67e4c5080d80bdd7e860405": {
          "model_module": "@jupyter-widgets/base",
          "model_name": "LayoutModel",
          "state": {
            "_view_name": "LayoutView",
            "grid_template_rows": null,
            "right": null,
            "justify_content": null,
            "_view_module": "@jupyter-widgets/base",
            "overflow": null,
            "_model_module_version": "1.2.0",
            "_view_count": null,
            "flex_flow": null,
            "width": null,
            "min_width": null,
            "border": null,
            "align_items": null,
            "bottom": null,
            "_model_module": "@jupyter-widgets/base",
            "top": null,
            "grid_column": null,
            "overflow_y": null,
            "overflow_x": null,
            "grid_auto_flow": null,
            "grid_area": null,
            "grid_template_columns": null,
            "flex": null,
            "_model_name": "LayoutModel",
            "justify_items": null,
            "grid_row": null,
            "max_height": null,
            "align_content": null,
            "visibility": null,
            "align_self": null,
            "height": null,
            "min_height": null,
            "padding": null,
            "grid_auto_rows": null,
            "grid_gap": null,
            "max_width": null,
            "order": null,
            "_view_module_version": "1.2.0",
            "grid_template_areas": null,
            "object_position": null,
            "object_fit": null,
            "grid_auto_columns": null,
            "margin": null,
            "display": null,
            "left": null
          }
        },
        "94a0436c050e4b35ac02b1a213521d54": {
          "model_module": "@jupyter-widgets/controls",
          "model_name": "HBoxModel",
          "state": {
            "_view_name": "HBoxView",
            "_dom_classes": [],
            "_model_name": "HBoxModel",
            "_view_module": "@jupyter-widgets/controls",
            "_model_module_version": "1.5.0",
            "_view_count": null,
            "_view_module_version": "1.5.0",
            "box_style": "",
            "layout": "IPY_MODEL_9fcbb568ec944c5c8d4d4e3a17043eb5",
            "_model_module": "@jupyter-widgets/controls",
            "children": [
              "IPY_MODEL_b6422fcaf77344b79100c659b396a78f",
              "IPY_MODEL_7dd8ce2bef8245ee897b7fe344b70be4"
            ]
          }
        },
        "9fcbb568ec944c5c8d4d4e3a17043eb5": {
          "model_module": "@jupyter-widgets/base",
          "model_name": "LayoutModel",
          "state": {
            "_view_name": "LayoutView",
            "grid_template_rows": null,
            "right": null,
            "justify_content": null,
            "_view_module": "@jupyter-widgets/base",
            "overflow": null,
            "_model_module_version": "1.2.0",
            "_view_count": null,
            "flex_flow": null,
            "width": null,
            "min_width": null,
            "border": null,
            "align_items": null,
            "bottom": null,
            "_model_module": "@jupyter-widgets/base",
            "top": null,
            "grid_column": null,
            "overflow_y": null,
            "overflow_x": null,
            "grid_auto_flow": null,
            "grid_area": null,
            "grid_template_columns": null,
            "flex": null,
            "_model_name": "LayoutModel",
            "justify_items": null,
            "grid_row": null,
            "max_height": null,
            "align_content": null,
            "visibility": null,
            "align_self": null,
            "height": null,
            "min_height": null,
            "padding": null,
            "grid_auto_rows": null,
            "grid_gap": null,
            "max_width": null,
            "order": null,
            "_view_module_version": "1.2.0",
            "grid_template_areas": null,
            "object_position": null,
            "object_fit": null,
            "grid_auto_columns": null,
            "margin": null,
            "display": null,
            "left": null
          }
        },
        "b6422fcaf77344b79100c659b396a78f": {
          "model_module": "@jupyter-widgets/controls",
          "model_name": "FloatProgressModel",
          "state": {
            "_view_name": "ProgressView",
            "style": "IPY_MODEL_03be946480ad4677b3b29958093c6e82",
            "_dom_classes": [],
            "description": "100%",
            "_model_name": "FloatProgressModel",
            "bar_style": "danger",
            "max": 75750,
            "_view_module": "@jupyter-widgets/controls",
            "_model_module_version": "1.5.0",
            "value": 75601,
            "_view_count": null,
            "_view_module_version": "1.5.0",
            "orientation": "horizontal",
            "min": 0,
            "description_tooltip": null,
            "_model_module": "@jupyter-widgets/controls",
            "layout": "IPY_MODEL_740c5593dca74dfeb2489741b500859e"
          }
        },
        "7dd8ce2bef8245ee897b7fe344b70be4": {
          "model_module": "@jupyter-widgets/controls",
          "model_name": "HTMLModel",
          "state": {
            "_view_name": "HTMLView",
            "style": "IPY_MODEL_c52ee90dfa7841a685c4f49051fc0525",
            "_dom_classes": [],
            "description": "",
            "_model_name": "HTMLModel",
            "placeholder": "​",
            "_view_module": "@jupyter-widgets/controls",
            "_model_module_version": "1.5.0",
            "value": " 75601/75750 [02:15&lt;00:00, 1202.09 examples/s]",
            "_view_count": null,
            "_view_module_version": "1.5.0",
            "description_tooltip": null,
            "_model_module": "@jupyter-widgets/controls",
            "layout": "IPY_MODEL_023b2d8b4ff54a1cbf236ec95b45c8f4"
          }
        },
        "03be946480ad4677b3b29958093c6e82": {
          "model_module": "@jupyter-widgets/controls",
          "model_name": "ProgressStyleModel",
          "state": {
            "_view_name": "StyleView",
            "_model_name": "ProgressStyleModel",
            "description_width": "initial",
            "_view_module": "@jupyter-widgets/base",
            "_model_module_version": "1.5.0",
            "_view_count": null,
            "_view_module_version": "1.2.0",
            "bar_color": null,
            "_model_module": "@jupyter-widgets/controls"
          }
        },
        "740c5593dca74dfeb2489741b500859e": {
          "model_module": "@jupyter-widgets/base",
          "model_name": "LayoutModel",
          "state": {
            "_view_name": "LayoutView",
            "grid_template_rows": null,
            "right": null,
            "justify_content": null,
            "_view_module": "@jupyter-widgets/base",
            "overflow": null,
            "_model_module_version": "1.2.0",
            "_view_count": null,
            "flex_flow": null,
            "width": null,
            "min_width": null,
            "border": null,
            "align_items": null,
            "bottom": null,
            "_model_module": "@jupyter-widgets/base",
            "top": null,
            "grid_column": null,
            "overflow_y": null,
            "overflow_x": null,
            "grid_auto_flow": null,
            "grid_area": null,
            "grid_template_columns": null,
            "flex": null,
            "_model_name": "LayoutModel",
            "justify_items": null,
            "grid_row": null,
            "max_height": null,
            "align_content": null,
            "visibility": null,
            "align_self": null,
            "height": null,
            "min_height": null,
            "padding": null,
            "grid_auto_rows": null,
            "grid_gap": null,
            "max_width": null,
            "order": null,
            "_view_module_version": "1.2.0",
            "grid_template_areas": null,
            "object_position": null,
            "object_fit": null,
            "grid_auto_columns": null,
            "margin": null,
            "display": null,
            "left": null
          }
        },
        "c52ee90dfa7841a685c4f49051fc0525": {
          "model_module": "@jupyter-widgets/controls",
          "model_name": "DescriptionStyleModel",
          "state": {
            "_view_name": "StyleView",
            "_model_name": "DescriptionStyleModel",
            "description_width": "",
            "_view_module": "@jupyter-widgets/base",
            "_model_module_version": "1.5.0",
            "_view_count": null,
            "_view_module_version": "1.2.0",
            "_model_module": "@jupyter-widgets/controls"
          }
        },
        "023b2d8b4ff54a1cbf236ec95b45c8f4": {
          "model_module": "@jupyter-widgets/base",
          "model_name": "LayoutModel",
          "state": {
            "_view_name": "LayoutView",
            "grid_template_rows": null,
            "right": null,
            "justify_content": null,
            "_view_module": "@jupyter-widgets/base",
            "overflow": null,
            "_model_module_version": "1.2.0",
            "_view_count": null,
            "flex_flow": null,
            "width": null,
            "min_width": null,
            "border": null,
            "align_items": null,
            "bottom": null,
            "_model_module": "@jupyter-widgets/base",
            "top": null,
            "grid_column": null,
            "overflow_y": null,
            "overflow_x": null,
            "grid_auto_flow": null,
            "grid_area": null,
            "grid_template_columns": null,
            "flex": null,
            "_model_name": "LayoutModel",
            "justify_items": null,
            "grid_row": null,
            "max_height": null,
            "align_content": null,
            "visibility": null,
            "align_self": null,
            "height": null,
            "min_height": null,
            "padding": null,
            "grid_auto_rows": null,
            "grid_gap": null,
            "max_width": null,
            "order": null,
            "_view_module_version": "1.2.0",
            "grid_template_areas": null,
            "object_position": null,
            "object_fit": null,
            "grid_auto_columns": null,
            "margin": null,
            "display": null,
            "left": null
          }
        },
        "ed8d35001a5049aeaa42d391995087a8": {
          "model_module": "@jupyter-widgets/controls",
          "model_name": "HBoxModel",
          "state": {
            "_view_name": "HBoxView",
            "_dom_classes": [],
            "_model_name": "HBoxModel",
            "_view_module": "@jupyter-widgets/controls",
            "_model_module_version": "1.5.0",
            "_view_count": null,
            "_view_module_version": "1.5.0",
            "box_style": "",
            "layout": "IPY_MODEL_d0d7ed4f9661448fb72c3296ec188490",
            "_model_module": "@jupyter-widgets/controls",
            "children": [
              "IPY_MODEL_8e38ae36f8b94fb2bc5eb869786ab790",
              "IPY_MODEL_95bf837d76044791b9dfeaf158dbbd03"
            ]
          }
        },
        "d0d7ed4f9661448fb72c3296ec188490": {
          "model_module": "@jupyter-widgets/base",
          "model_name": "LayoutModel",
          "state": {
            "_view_name": "LayoutView",
            "grid_template_rows": null,
            "right": null,
            "justify_content": null,
            "_view_module": "@jupyter-widgets/base",
            "overflow": null,
            "_model_module_version": "1.2.0",
            "_view_count": null,
            "flex_flow": null,
            "width": null,
            "min_width": null,
            "border": null,
            "align_items": null,
            "bottom": null,
            "_model_module": "@jupyter-widgets/base",
            "top": null,
            "grid_column": null,
            "overflow_y": null,
            "overflow_x": null,
            "grid_auto_flow": null,
            "grid_area": null,
            "grid_template_columns": null,
            "flex": null,
            "_model_name": "LayoutModel",
            "justify_items": null,
            "grid_row": null,
            "max_height": null,
            "align_content": null,
            "visibility": null,
            "align_self": null,
            "height": null,
            "min_height": null,
            "padding": null,
            "grid_auto_rows": null,
            "grid_gap": null,
            "max_width": null,
            "order": null,
            "_view_module_version": "1.2.0",
            "grid_template_areas": null,
            "object_position": null,
            "object_fit": null,
            "grid_auto_columns": null,
            "margin": null,
            "display": null,
            "left": null
          }
        },
        "8e38ae36f8b94fb2bc5eb869786ab790": {
          "model_module": "@jupyter-widgets/controls",
          "model_name": "FloatProgressModel",
          "state": {
            "_view_name": "ProgressView",
            "style": "IPY_MODEL_1eb1b9f5b82148718b4f1d1328cc6805",
            "_dom_classes": [],
            "description": "",
            "_model_name": "FloatProgressModel",
            "bar_style": "info",
            "max": 1,
            "_view_module": "@jupyter-widgets/controls",
            "_model_module_version": "1.5.0",
            "value": 1,
            "_view_count": null,
            "_view_module_version": "1.5.0",
            "orientation": "horizontal",
            "min": 0,
            "description_tooltip": null,
            "_model_module": "@jupyter-widgets/controls",
            "layout": "IPY_MODEL_2c0a36452059441aad2a42aa175e6ab3"
          }
        },
        "95bf837d76044791b9dfeaf158dbbd03": {
          "model_module": "@jupyter-widgets/controls",
          "model_name": "HTMLModel",
          "state": {
            "_view_name": "HTMLView",
            "style": "IPY_MODEL_fc322cf0de2142d6b94c3a976b1e43f3",
            "_dom_classes": [],
            "description": "",
            "_model_name": "HTMLModel",
            "placeholder": "​",
            "_view_module": "@jupyter-widgets/controls",
            "_model_module_version": "1.5.0",
            "value": " 25250/0 [01:18&lt;00:00, 319.05 examples/s]",
            "_view_count": null,
            "_view_module_version": "1.5.0",
            "description_tooltip": null,
            "_model_module": "@jupyter-widgets/controls",
            "layout": "IPY_MODEL_fc3b88c4aa0c46b6be525ad42ffd79ba"
          }
        },
        "1eb1b9f5b82148718b4f1d1328cc6805": {
          "model_module": "@jupyter-widgets/controls",
          "model_name": "ProgressStyleModel",
          "state": {
            "_view_name": "StyleView",
            "_model_name": "ProgressStyleModel",
            "description_width": "initial",
            "_view_module": "@jupyter-widgets/base",
            "_model_module_version": "1.5.0",
            "_view_count": null,
            "_view_module_version": "1.2.0",
            "bar_color": null,
            "_model_module": "@jupyter-widgets/controls"
          }
        },
        "2c0a36452059441aad2a42aa175e6ab3": {
          "model_module": "@jupyter-widgets/base",
          "model_name": "LayoutModel",
          "state": {
            "_view_name": "LayoutView",
            "grid_template_rows": null,
            "right": null,
            "justify_content": null,
            "_view_module": "@jupyter-widgets/base",
            "overflow": null,
            "_model_module_version": "1.2.0",
            "_view_count": null,
            "flex_flow": null,
            "width": null,
            "min_width": null,
            "border": null,
            "align_items": null,
            "bottom": null,
            "_model_module": "@jupyter-widgets/base",
            "top": null,
            "grid_column": null,
            "overflow_y": null,
            "overflow_x": null,
            "grid_auto_flow": null,
            "grid_area": null,
            "grid_template_columns": null,
            "flex": null,
            "_model_name": "LayoutModel",
            "justify_items": null,
            "grid_row": null,
            "max_height": null,
            "align_content": null,
            "visibility": null,
            "align_self": null,
            "height": null,
            "min_height": null,
            "padding": null,
            "grid_auto_rows": null,
            "grid_gap": null,
            "max_width": null,
            "order": null,
            "_view_module_version": "1.2.0",
            "grid_template_areas": null,
            "object_position": null,
            "object_fit": null,
            "grid_auto_columns": null,
            "margin": null,
            "display": null,
            "left": null
          }
        },
        "fc322cf0de2142d6b94c3a976b1e43f3": {
          "model_module": "@jupyter-widgets/controls",
          "model_name": "DescriptionStyleModel",
          "state": {
            "_view_name": "StyleView",
            "_model_name": "DescriptionStyleModel",
            "description_width": "",
            "_view_module": "@jupyter-widgets/base",
            "_model_module_version": "1.5.0",
            "_view_count": null,
            "_view_module_version": "1.2.0",
            "_model_module": "@jupyter-widgets/controls"
          }
        },
        "fc3b88c4aa0c46b6be525ad42ffd79ba": {
          "model_module": "@jupyter-widgets/base",
          "model_name": "LayoutModel",
          "state": {
            "_view_name": "LayoutView",
            "grid_template_rows": null,
            "right": null,
            "justify_content": null,
            "_view_module": "@jupyter-widgets/base",
            "overflow": null,
            "_model_module_version": "1.2.0",
            "_view_count": null,
            "flex_flow": null,
            "width": null,
            "min_width": null,
            "border": null,
            "align_items": null,
            "bottom": null,
            "_model_module": "@jupyter-widgets/base",
            "top": null,
            "grid_column": null,
            "overflow_y": null,
            "overflow_x": null,
            "grid_auto_flow": null,
            "grid_area": null,
            "grid_template_columns": null,
            "flex": null,
            "_model_name": "LayoutModel",
            "justify_items": null,
            "grid_row": null,
            "max_height": null,
            "align_content": null,
            "visibility": null,
            "align_self": null,
            "height": null,
            "min_height": null,
            "padding": null,
            "grid_auto_rows": null,
            "grid_gap": null,
            "max_width": null,
            "order": null,
            "_view_module_version": "1.2.0",
            "grid_template_areas": null,
            "object_position": null,
            "object_fit": null,
            "grid_auto_columns": null,
            "margin": null,
            "display": null,
            "left": null
          }
        },
        "a12f6784d41541a1b87c50caf9e7cbc8": {
          "model_module": "@jupyter-widgets/controls",
          "model_name": "HBoxModel",
          "state": {
            "_view_name": "HBoxView",
            "_dom_classes": [],
            "_model_name": "HBoxModel",
            "_view_module": "@jupyter-widgets/controls",
            "_model_module_version": "1.5.0",
            "_view_count": null,
            "_view_module_version": "1.5.0",
            "box_style": "",
            "layout": "IPY_MODEL_23f916a93e504655a4e51fa9070958f5",
            "_model_module": "@jupyter-widgets/controls",
            "children": [
              "IPY_MODEL_9fd88a89110641f2b6fa5c75ec808310",
              "IPY_MODEL_30cf7177ea234a509d7119b0843f0491"
            ]
          }
        },
        "23f916a93e504655a4e51fa9070958f5": {
          "model_module": "@jupyter-widgets/base",
          "model_name": "LayoutModel",
          "state": {
            "_view_name": "LayoutView",
            "grid_template_rows": null,
            "right": null,
            "justify_content": null,
            "_view_module": "@jupyter-widgets/base",
            "overflow": null,
            "_model_module_version": "1.2.0",
            "_view_count": null,
            "flex_flow": null,
            "width": null,
            "min_width": null,
            "border": null,
            "align_items": null,
            "bottom": null,
            "_model_module": "@jupyter-widgets/base",
            "top": null,
            "grid_column": null,
            "overflow_y": null,
            "overflow_x": null,
            "grid_auto_flow": null,
            "grid_area": null,
            "grid_template_columns": null,
            "flex": null,
            "_model_name": "LayoutModel",
            "justify_items": null,
            "grid_row": null,
            "max_height": null,
            "align_content": null,
            "visibility": null,
            "align_self": null,
            "height": null,
            "min_height": null,
            "padding": null,
            "grid_auto_rows": null,
            "grid_gap": null,
            "max_width": null,
            "order": null,
            "_view_module_version": "1.2.0",
            "grid_template_areas": null,
            "object_position": null,
            "object_fit": null,
            "grid_auto_columns": null,
            "margin": null,
            "display": null,
            "left": null
          }
        },
        "9fd88a89110641f2b6fa5c75ec808310": {
          "model_module": "@jupyter-widgets/controls",
          "model_name": "FloatProgressModel",
          "state": {
            "_view_name": "ProgressView",
            "style": "IPY_MODEL_83883c2c87fa40689a9049d5bd4b2577",
            "_dom_classes": [],
            "description": " 98%",
            "_model_name": "FloatProgressModel",
            "bar_style": "danger",
            "max": 25250,
            "_view_module": "@jupyter-widgets/controls",
            "_model_module_version": "1.5.0",
            "value": 24756,
            "_view_count": null,
            "_view_module_version": "1.5.0",
            "orientation": "horizontal",
            "min": 0,
            "description_tooltip": null,
            "_model_module": "@jupyter-widgets/controls",
            "layout": "IPY_MODEL_21964b07f8c046b4b453a9668d4fed7b"
          }
        },
        "30cf7177ea234a509d7119b0843f0491": {
          "model_module": "@jupyter-widgets/controls",
          "model_name": "HTMLModel",
          "state": {
            "_view_name": "HTMLView",
            "style": "IPY_MODEL_8375309aaede441f886ecea2d259d8d4",
            "_dom_classes": [],
            "description": "",
            "_model_name": "HTMLModel",
            "placeholder": "​",
            "_view_module": "@jupyter-widgets/controls",
            "_model_module_version": "1.5.0",
            "value": " 24756/25250 [00:09&lt;00:00, 5470.53 examples/s]",
            "_view_count": null,
            "_view_module_version": "1.5.0",
            "description_tooltip": null,
            "_model_module": "@jupyter-widgets/controls",
            "layout": "IPY_MODEL_6af7d72fd86f42ccb11837887cfc809c"
          }
        },
        "83883c2c87fa40689a9049d5bd4b2577": {
          "model_module": "@jupyter-widgets/controls",
          "model_name": "ProgressStyleModel",
          "state": {
            "_view_name": "StyleView",
            "_model_name": "ProgressStyleModel",
            "description_width": "initial",
            "_view_module": "@jupyter-widgets/base",
            "_model_module_version": "1.5.0",
            "_view_count": null,
            "_view_module_version": "1.2.0",
            "bar_color": null,
            "_model_module": "@jupyter-widgets/controls"
          }
        },
        "21964b07f8c046b4b453a9668d4fed7b": {
          "model_module": "@jupyter-widgets/base",
          "model_name": "LayoutModel",
          "state": {
            "_view_name": "LayoutView",
            "grid_template_rows": null,
            "right": null,
            "justify_content": null,
            "_view_module": "@jupyter-widgets/base",
            "overflow": null,
            "_model_module_version": "1.2.0",
            "_view_count": null,
            "flex_flow": null,
            "width": null,
            "min_width": null,
            "border": null,
            "align_items": null,
            "bottom": null,
            "_model_module": "@jupyter-widgets/base",
            "top": null,
            "grid_column": null,
            "overflow_y": null,
            "overflow_x": null,
            "grid_auto_flow": null,
            "grid_area": null,
            "grid_template_columns": null,
            "flex": null,
            "_model_name": "LayoutModel",
            "justify_items": null,
            "grid_row": null,
            "max_height": null,
            "align_content": null,
            "visibility": null,
            "align_self": null,
            "height": null,
            "min_height": null,
            "padding": null,
            "grid_auto_rows": null,
            "grid_gap": null,
            "max_width": null,
            "order": null,
            "_view_module_version": "1.2.0",
            "grid_template_areas": null,
            "object_position": null,
            "object_fit": null,
            "grid_auto_columns": null,
            "margin": null,
            "display": null,
            "left": null
          }
        },
        "8375309aaede441f886ecea2d259d8d4": {
          "model_module": "@jupyter-widgets/controls",
          "model_name": "DescriptionStyleModel",
          "state": {
            "_view_name": "StyleView",
            "_model_name": "DescriptionStyleModel",
            "description_width": "",
            "_view_module": "@jupyter-widgets/base",
            "_model_module_version": "1.5.0",
            "_view_count": null,
            "_view_module_version": "1.2.0",
            "_model_module": "@jupyter-widgets/controls"
          }
        },
        "6af7d72fd86f42ccb11837887cfc809c": {
          "model_module": "@jupyter-widgets/base",
          "model_name": "LayoutModel",
          "state": {
            "_view_name": "LayoutView",
            "grid_template_rows": null,
            "right": null,
            "justify_content": null,
            "_view_module": "@jupyter-widgets/base",
            "overflow": null,
            "_model_module_version": "1.2.0",
            "_view_count": null,
            "flex_flow": null,
            "width": null,
            "min_width": null,
            "border": null,
            "align_items": null,
            "bottom": null,
            "_model_module": "@jupyter-widgets/base",
            "top": null,
            "grid_column": null,
            "overflow_y": null,
            "overflow_x": null,
            "grid_auto_flow": null,
            "grid_area": null,
            "grid_template_columns": null,
            "flex": null,
            "_model_name": "LayoutModel",
            "justify_items": null,
            "grid_row": null,
            "max_height": null,
            "align_content": null,
            "visibility": null,
            "align_self": null,
            "height": null,
            "min_height": null,
            "padding": null,
            "grid_auto_rows": null,
            "grid_gap": null,
            "max_width": null,
            "order": null,
            "_view_module_version": "1.2.0",
            "grid_template_areas": null,
            "object_position": null,
            "object_fit": null,
            "grid_auto_columns": null,
            "margin": null,
            "display": null,
            "left": null
          }
        }
      }
    }
  },
  "cells": [
    {
      "cell_type": "markdown",
      "metadata": {
        "id": "RJ-iJbRxDaEp"
      },
      "source": [
        "# **Mega Byte** \n",
        "This is a compilaton of code with the addition of transfer learning"
      ]
    },
    {
      "cell_type": "markdown",
      "metadata": {
        "id": "nmvQqgGJHgBB"
      },
      "source": [
        "# **Config**"
      ]
    },
    {
      "cell_type": "code",
      "metadata": {
        "colab": {
          "base_uri": "https://localhost:8080/"
        },
        "id": "hQw58tolS8lf",
        "outputId": "f95e19fe-5847-48f3-fc22-36291b5f8c2e"
      },
      "source": [
        "!pip install datetime"
      ],
      "execution_count": 1,
      "outputs": [
        {
          "output_type": "stream",
          "text": [
            "Collecting datetime\n",
            "\u001b[?25l  Downloading https://files.pythonhosted.org/packages/73/22/a5297f3a1f92468cc737f8ce7ba6e5f245fcfafeae810ba37bd1039ea01c/DateTime-4.3-py2.py3-none-any.whl (60kB)\n",
            "\r\u001b[K     |█████▌                          | 10kB 12.1MB/s eta 0:00:01\r\u001b[K     |███████████                     | 20kB 18.1MB/s eta 0:00:01\r\u001b[K     |████████████████▍               | 30kB 10.4MB/s eta 0:00:01\r\u001b[K     |█████████████████████▉          | 40kB 8.8MB/s eta 0:00:01\r\u001b[K     |███████████████████████████▎    | 51kB 7.6MB/s eta 0:00:01\r\u001b[K     |████████████████████████████████| 61kB 4.2MB/s \n",
            "\u001b[?25hRequirement already satisfied: pytz in /usr/local/lib/python3.7/dist-packages (from datetime) (2018.9)\n",
            "Collecting zope.interface\n",
            "\u001b[?25l  Downloading https://files.pythonhosted.org/packages/bb/a7/94e1a92c71436f934cdd2102826fa041c83dcb7d21dd0f1fb1a57f6e0620/zope.interface-5.4.0-cp37-cp37m-manylinux2010_x86_64.whl (251kB)\n",
            "\u001b[K     |████████████████████████████████| 256kB 8.8MB/s \n",
            "\u001b[?25hRequirement already satisfied: setuptools in /usr/local/lib/python3.7/dist-packages (from zope.interface->datetime) (54.2.0)\n",
            "Installing collected packages: zope.interface, datetime\n",
            "Successfully installed datetime-4.3 zope.interface-5.4.0\n"
          ],
          "name": "stdout"
        }
      ]
    },
    {
      "cell_type": "code",
      "metadata": {
        "id": "CHVfiVLTEzqN"
      },
      "source": [
        "# This is a config file for the project, it will contain all configurable variables in one place\n",
        "# Once development of the code is complete, this should be the only file that needs to be edited.\n",
        "import datetime\n",
        "# Set to True if you want to print some information about the model and\n",
        "# view sample images from the dataset\n",
        "VISUALIZATION = False\n",
        "\n",
        "# Set to True if you want to see the histogram for the dataset\n",
        "HISTOGRAM = False\n",
        "\n",
        "# Set to True to apply data Augmentation to the dataset before training\n",
        "# Options:\n",
        "DATA_AUGMENTATION = False\n",
        "\n",
        "# Select the Model you want to train\n",
        "# Options:\n",
        "MODEL = 5\n",
        "\n",
        "# Specify the number of epochs for training\n",
        "EPOCHS = 1\n",
        "\n",
        "# Specify the batch size for pre-processing and training\n",
        "# Ex: 32, 64, 128\n",
        "BATCH = 32\n",
        "\n",
        "# Below are the Variables dependant on the Model selected\n",
        "if MODEL == 1 and DATA_AUGMENTATION is False:\n",
        "    # Using Model 1 without data augmentation\n",
        "    MODEL_ID = 1\n",
        "    LOG_DIR = \"./tmp/logs/model1\"\n",
        "    MODEL_NAME = \"cnn_model_1\"\n",
        "\n",
        "elif MODEL == 1 and DATA_AUGMENTATION is not False:\n",
        "    # Using Model 1 with data augmentation\n",
        "    MODEL_ID = 2\n",
        "    LOG_DIR = \"./tmp/logs/model1_data_aug\"\n",
        "    MODEL_NAME = \"cnn_model_1_data_aug\"\n",
        "\n",
        "elif MODEL == 2 and DATA_AUGMENTATION is False:\n",
        "    # Using Model 2 without data augmentation\n",
        "    MODEL_ID = 3\n",
        "    LOG_DIR = \"./tmp/logs/model2\"\n",
        "    MODEL_NAME = \"cnn_model_2\"\n",
        "\n",
        "elif MODEL == 2 and DATA_AUGMENTATION is not False:\n",
        "    # Using Model 2 with data augmentation\n",
        "    MODEL_ID = 4\n",
        "    LOG_DIR = \"./tmp/logs/model2_data_aug\"\n",
        "    MODEL_NAME = \"cnn_model_2_data_aug\"\n",
        "\n",
        "elif MODEL == 5 and DATA_AUGMENTATION is False:\n",
        "    # Using Model 2 (Transfer Learning VGG16) without data augmentation\n",
        "    MODEL_ID = 5\n",
        "    LOG_DIR = \"./tmp/logs/model_TL\"\n",
        "    MODEL_NAME = \"TL_model_VGG16\"\n",
        "\n",
        "else:\n",
        "    # Error Did not Select a Model\n",
        "    print(\"ERROR: Value entered for MODEL is incorrect. Received: \", MODEL, \"\\n EXPECTING: 1 or 2\")\n",
        "    exit(500)\n",
        "\n",
        "LOG_FILE = LOG_DIR + \"/\" + datetime.datetime.now().strftime(\"%Y%m%d-%H%M%S\")"
      ],
      "execution_count": 2,
      "outputs": []
    },
    {
      "cell_type": "markdown",
      "metadata": {
        "id": "y3GTW0GOKRBl"
      },
      "source": [
        "# **Utils**"
      ]
    },
    {
      "cell_type": "code",
      "metadata": {
        "id": "E3AJWc0rKPu7"
      },
      "source": [
        "# This file contains common functions for data processing independent of the dataset and model used.\n",
        "# Not all of these functions are required to be used in the project\n",
        "import tensorflow as tf\n",
        "#import config\n",
        "\n",
        "# Loading Tensorboard Logging dir and file\n",
        "log_dir = LOG_DIR\n",
        "log_file = LOG_FILE\n",
        "model_name = MODEL_NAME\n",
        "\n",
        "# ------- THE FUNCTIONS BELOW ARE USED IN THIS PROJECT ------- #\n",
        "tensorboard_callback = tf.keras.callbacks.TensorBoard(log_dir=log_dir, histogram_freq=1)\n",
        "\n",
        "data_augmentation_flip_rotate = tf.keras.Sequential([\n",
        "    tf.keras.layers.experimental.preprocessing.RandomFlip(\"horizontal_and_vertical\"),\n",
        "    tf.keras.layers.experimental.preprocessing.RandomRotation(0.2)])\n",
        "\n",
        "data_scaling_resizing = tf.keras.Sequential([\n",
        "    tf.keras.layers.experimental.preprocessing.Resizing(512, 512),\n",
        "    tf.keras.layers.experimental.preprocessing.Rescaling(1. / 255)])\n",
        "\n",
        "early_stop = tf.keras.callbacks.EarlyStopping(monitor='val_loss', patience=20)\n",
        "\n",
        "monitor_func = tf.keras.callbacks.ModelCheckpoint(model_name, monitor='val_loss',\n",
        "                                                  verbose=0, save_best_only=True,\n",
        "                                                  save_weights_only=True, mode='min')\n",
        "# Learning rate schedule\n",
        "def scheduler(epoch, lr):\n",
        "    if epoch % 10 == 0:\n",
        "        lr = lr / 2\n",
        "    return lr\n",
        "\n",
        "lr_schedule = tf.keras.callbacks.LearningRateScheduler(scheduler, verbose=0)"
      ],
      "execution_count": 3,
      "outputs": []
    },
    {
      "cell_type": "markdown",
      "metadata": {
        "id": "KaO-Uuk-98ha"
      },
      "source": [
        "### The functions below will not be used but are here kept anyway"
      ]
    },
    {
      "cell_type": "code",
      "metadata": {
        "id": "MDU8xor_945B"
      },
      "source": [
        "# ------- THE FUNCTIONS BELOW WILL NoT be USED IN THIS PROJECT ------- #\n",
        "# ------- They Did not work with our dataset\n",
        "\n",
        "\n",
        "# Shuffle indexes of given dataset and labels\n",
        "def shuffle_indexes(X, Y):\n",
        "    import numpy as np\n",
        "    indexes = np.arange(X.shape[0], dtype=int)\n",
        "    np.random.shuffle(indexes)\n",
        "    X_new = X[indexes]\n",
        "    Y_new = Y[indexes]\n",
        "    return X_new, Y_new\n",
        "\n",
        "\n",
        "# Splitting the given dataset (dataset_X, dataset_Y) into two portions\n",
        "# dataset_X is the data values and dataset_Y are the corresponding labels\n",
        "# (X_LG, Y_LG) will have the first {percent*100}% of the dataset and\n",
        "# (X_SM, Y_SM) will have the last {1 - percent}*100% of the dataset\n",
        "def split_dataset(dataset_X, dataset_Y, percent):\n",
        "    # Calculate splitting index\n",
        "    nsplit = int(percent * dataset_X.shape[0])\n",
        "\n",
        "    # split dataset into\n",
        "    X_LG = dataset_X[:nsplit]\n",
        "    Y_LG = dataset_Y[:nsplit]\n",
        "    X_SM = dataset_X[nsplit:]\n",
        "    Y_SM = dataset_Y[nsplit:]\n",
        "    return X_LG, Y_LG, X_SM, Y_SM\n",
        "\n",
        "\n",
        "# Returns One Hot Encoding for given train, validate and test dataset labels or None\n",
        "def one_hot_encoding(train=None, validate=None, test=None):\n",
        "    train_oh = None\n",
        "    validate_oh = None\n",
        "    test_oh = None\n",
        "    if train is not None:\n",
        "        train_oh = tf.keras.utils.to_categorical(train)\n",
        "    if validate is not None:\n",
        "        validate_oh = tf.keras.utils.to_categorical(validate)\n",
        "    if test is not None:\n",
        "        test_oh = tf.keras.utils.to_categorical(test)\n",
        "    return train_oh, validate_oh, test_oh\n",
        "\n",
        "\n",
        "# returns normalized dataset values\n",
        "# norm_type = 0 -> min-max; norm_type = 1 -> standardization\n",
        "def normalise_data(train, val, test, norm_type=0):\n",
        "    if norm_type == 0:\n",
        "        X_train = train / 255\n",
        "        X_val = val / 255\n",
        "        X_test = test / 255\n",
        "    else:\n",
        "        train_mean, train_std = train.mean(), train.std()\n",
        "        X_train = (train - train_mean) / train_std\n",
        "        X_val = (val - train_mean) / train_std\n",
        "        X_test = (test - train_mean) / train_std\n",
        "    return X_train, X_val, X_test\n",
        "\n",
        "\n",
        "# Resize Images from TFDS Dataset\n",
        "def resize_dataset(img, label):\n",
        "    img = tf.image.resize(img, (512, 512))\n",
        "    return img, label\n",
        "\n",
        "\n",
        "# Extract Images and Labels in Dataset\n",
        "def feature_extraction(ds):\n",
        "    img = []\n",
        "    lbl = []\n",
        "    for i in ds:\n",
        "        img.append(i[0])\n",
        "        lbl.append(i[1])\n",
        "    return img, lbl\n",
        "\n",
        "\n",
        "# Normalizes Images in Dataset using min-max method\n",
        "def dataset_normalization_min_max(img, lbl):\n",
        "    img = img / 255\n",
        "    return img, lbl\n",
        "\n",
        "\n",
        "# Normalizes Images in Dataset using Standardization method\n",
        "def dataset_normalization_std(img, lbl):\n",
        "    mean, std = img.mean(), img.std()\n",
        "    img = (img - mean) / std\n",
        "    return img, lbl\n",
        "\n",
        "\n",
        "# Augment Images in Dataset using random flip method\n",
        "def dataset_augmentation_flip(img, lbl):\n",
        "    return tf.image.random_flip_left_right(img), lbl\n",
        "\n",
        "\n",
        "# Augment Images in Dataset using random contrast method\n",
        "def dataset_augmentation_contrast(img, lbl):\n",
        "    return tf.image.random_contrast(img, lower=0.0, upper=1.0), lbl"
      ],
      "execution_count": 4,
      "outputs": []
    },
    {
      "cell_type": "markdown",
      "metadata": {
        "id": "j3_bYv-uHs1v"
      },
      "source": [
        "# **CNN Model**"
      ]
    },
    {
      "cell_type": "markdown",
      "metadata": {
        "id": "Fw3KfigTOWG8"
      },
      "source": [
        "Note that since transfer learning has a coarse fit and fine tune it is split up into seperate cells. These are defined below under training"
      ]
    },
    {
      "cell_type": "code",
      "metadata": {
        "id": "zpn-kHBfFKvB"
      },
      "source": [
        "import datetime\n",
        "\n",
        "import tensorflow as tf\n",
        "#import config\n",
        "\n",
        "model_name = MODEL_NAME\n",
        "\n",
        "\n",
        "# Different CNN are defined below\n",
        "# After determining which architecture is better (model 1 or model 2)\n",
        "# TODO apply different dropouts to the best one\n",
        "\n",
        "def model_1(num_class, k=128):\n",
        "\n",
        "    model = tf.keras.Sequential([\n",
        "        tf.keras.layers.Conv2D(16, (3, 3), input_shape=(512, 512, 3), data_format=\"channels_last\", padding='same', activation='relu'),\n",
        "        tf.keras.layers.MaxPool2D((2, 2)),\n",
        "        tf.keras.layers.Conv2D(32, (3, 3), padding='same', activation='relu'),\n",
        "        tf.keras.layers.MaxPool2D((2, 2)),\n",
        "        tf.keras.layers.Conv2D(64, (3, 3), padding='same', activation='relu'),\n",
        "        tf.keras.layers.MaxPool2D((2, 2)),\n",
        "        tf.keras.layers.Flatten(),\n",
        "        tf.keras.layers.Dense(k, activation='relu'),\n",
        "        tf.keras.layers.Dense(num_class, activation='softmax')\n",
        "    ])\n",
        "\n",
        "    return model\n",
        "\n",
        "\n",
        "# CNN From Assignment 2\n",
        "def model_2(k=101):\n",
        "    model = tf.keras.Sequential([\n",
        "        tf.keras.layers.Conv2D(48, (3, 3), input_shape=(512, 512, 3), padding='same', activation='relu'),\n",
        "        tf.keras.layers.Conv2D(48, (3, 3), padding='same', activation='relu'),\n",
        "        tf.keras.layers.MaxPool2D((2, 2)),\n",
        "        tf.keras.layers.Conv2D(96, (3, 3), padding='same', activation='relu'),\n",
        "        tf.keras.layers.Conv2D(96, (3, 3), padding='same', activation='relu'),\n",
        "        tf.keras.layers.MaxPool2D((2, 2)),\n",
        "        tf.keras.layers.Flatten(),\n",
        "        tf.keras.layers.Dense(k, activation='softmax')\n",
        "    ])\n",
        "\n",
        "    return model\n",
        "\n",
        "def compile_model(model,  lr=1e-4, optim=0):\n",
        "    if optim == 1:\n",
        "        optimizer_cnn = tf.keras.optimizers.SGD(learning_rate=lr)\n",
        "    else:\n",
        "        optimizer_cnn = tf.keras.optimizers.Adam(learning_rate=lr)\n",
        "    model.compile(optimizer=optimizer_cnn, loss='categorical_crossentropy',\n",
        "                  metrics=[\"accuracy\"])\n",
        "    return model\n",
        "\n"
      ],
      "execution_count": 5,
      "outputs": []
    },
    {
      "cell_type": "markdown",
      "metadata": {
        "id": "HBhh2OQnH6Z7"
      },
      "source": [
        "# **Dataset Prep**"
      ]
    },
    {
      "cell_type": "markdown",
      "metadata": {
        "id": "-kwxJg4oJ2fv"
      },
      "source": [
        "load dataset and get things ready"
      ]
    },
    {
      "cell_type": "code",
      "metadata": {
        "id": "Ct73LWYI8XDt"
      },
      "source": [
        "import matplotlib.pylab as plt\n",
        "import numpy as np\n",
        "import tensorflow as tf\n",
        "import tensorflow_datasets as tfds\n",
        "#import utils\n",
        "#import CNN\n",
        "#import config\n",
        "\n",
        "# Load Variables from Configuration File\n",
        "VISUALIZE_IMG = VISUALIZATION\n",
        "HISTOGRAM = HISTOGRAM\n",
        "norm_type = \"min-max\"\n",
        "data_augment = DATA_AUGMENTATION\n",
        "MODEL = MODEL_ID\n",
        "EPOCHS = EPOCHS\n",
        "LOG_DIR = LOG_DIR\n",
        "LOG_FILE = LOG_FILE\n",
        "MODEL_NAME = MODEL_NAME\n",
        "batch = BATCH\n",
        "num_classes = 101"
      ],
      "execution_count": 6,
      "outputs": []
    },
    {
      "cell_type": "code",
      "metadata": {
        "id": "r2CHYZcY8bgq"
      },
      "source": [
        "# Get GPU Working with CuDNN\n",
        "gpus = tf.config.list_physical_devices('GPU')\n",
        "if gpus:\n",
        "    try:\n",
        "        # Currently, memory growth needs to be the same across GPUs\n",
        "        for gpu in gpus:\n",
        "            tf.config.experimental.set_memory_growth(gpu, True)\n",
        "        logical_gpus = tf.config.experimental.list_logical_devices('GPU')\n",
        "        print(len(gpus), \"Physical GPUs,\", len(logical_gpus), \"Logical GPUs\")\n",
        "    except RuntimeError as e:\n",
        "        # Memory growth must be set before GPUs have been initialized\n",
        "        print(e)"
      ],
      "execution_count": null,
      "outputs": []
    },
    {
      "cell_type": "markdown",
      "metadata": {
        "id": "BwO7tPu0kEMm"
      },
      "source": [
        "## **Loading the Dataset**"
      ]
    },
    {
      "cell_type": "code",
      "metadata": {
        "colab": {
          "base_uri": "https://localhost:8080/",
          "height": 541,
          "referenced_widgets": [
            "9309a49954a04b38a736371605ef91c8",
            "047721bd592749e08097eaa6d7500cc3",
            "b4683ab435a04a56820de6602cd37e0c",
            "1d087813918d4504a75a62bb71b9c3fc",
            "ca171e71bb4745e28c2346385565f5d5",
            "67e5e632324849f0858b153cc1ec252c",
            "21906aa722e24cd48872d0e194ddd001",
            "238b762934f7447ba3f29f9b96fb5884",
            "26d5e778585740f899b70318779394ae",
            "2691f75e484741f5930ee472c21cebea",
            "1864af06e3bd4ea29c3ed34c49fdc88d",
            "2a0d9499e5614030808a596ae8d7e8f1",
            "1e8be40a2c584de6b5e7748d27560c62",
            "bbc47b806dd348938bfc01ef27312336",
            "8bf25e1dbde44dd49f33cee95fc2681a",
            "1f16c58680ba457292fafcf1ddf9ccbb",
            "24c6034fa8674209b7621eb1065cc3bc",
            "b0ac5d547a854ea2a863e46bf7ad2491",
            "5d4e3c9097ff49cda7d94add14266103",
            "e3ec548cb32a4c1587a4089ea724ca75",
            "8a821566128b41ae86b4816b8d03f624",
            "de2fd9acef1d4850971911916c11d1b4",
            "13047de9426742a0bed1547cb5f71b8d",
            "3d2d487608484a4ab6f18b983c870a02",
            "a2e73946c3ab49e8b7078bb3d750ed70",
            "982ec3d665e1432ebc133208417cd85c",
            "94f11a93e6a94f9b91d88ee5800a4dcc",
            "129518978af64536b83134de29638f5d",
            "7f4505746576422da3141ee629e2eada",
            "4ec4aca49cfb4a11ac869b599f11fcaa",
            "27c26daa26df45818b8286bd5f643397",
            "bc8f905ff67e4c5080d80bdd7e860405",
            "94a0436c050e4b35ac02b1a213521d54",
            "9fcbb568ec944c5c8d4d4e3a17043eb5",
            "b6422fcaf77344b79100c659b396a78f",
            "7dd8ce2bef8245ee897b7fe344b70be4",
            "03be946480ad4677b3b29958093c6e82",
            "740c5593dca74dfeb2489741b500859e",
            "c52ee90dfa7841a685c4f49051fc0525",
            "023b2d8b4ff54a1cbf236ec95b45c8f4",
            "ed8d35001a5049aeaa42d391995087a8",
            "d0d7ed4f9661448fb72c3296ec188490",
            "8e38ae36f8b94fb2bc5eb869786ab790",
            "95bf837d76044791b9dfeaf158dbbd03",
            "1eb1b9f5b82148718b4f1d1328cc6805",
            "2c0a36452059441aad2a42aa175e6ab3",
            "fc322cf0de2142d6b94c3a976b1e43f3",
            "fc3b88c4aa0c46b6be525ad42ffd79ba",
            "a12f6784d41541a1b87c50caf9e7cbc8",
            "23f916a93e504655a4e51fa9070958f5",
            "9fd88a89110641f2b6fa5c75ec808310",
            "30cf7177ea234a509d7119b0843f0491",
            "83883c2c87fa40689a9049d5bd4b2577",
            "21964b07f8c046b4b453a9668d4fed7b",
            "8375309aaede441f886ecea2d259d8d4",
            "6af7d72fd86f42ccb11837887cfc809c"
          ]
        },
        "id": "ypobUJI1JriX",
        "outputId": "73d0dc6d-1428-4c97-d451-98bb0a95a571"
      },
      "source": [
        "# ---------- LOADING Dataset ---------- #\n",
        "# Loading Food 101 train validation and test datasets with shuffled indexes  'validation',\n",
        "(food101_ds_train, food101_ds_val, food101_ds_test), metadata = tfds.load('food101',\n",
        "                                                                          split=['train[:86%]', 'validation', 'train[-14%:]'],\n",
        "                                                                          shuffle_files=False, as_supervised=True, with_info=True) #swi\n",
        "print(\"Split Keys: \", list(metadata.splits.keys()))\n",
        "print(\"info.features: \", metadata.features)\n",
        "print(\"train type before: \", type(food101_ds_train))\n",
        "print(\"Num of Classes: \", metadata.features[\"label\"].num_classes)\n",
        "print(\"Lengths: \", len(food101_ds_train), len(food101_ds_val), len(food101_ds_test))\n",
        "exit(0)\n",
        "assert isinstance(food101_ds_train, tf.data.Dataset), \"Training dataset is not a TF Dataset\"\n",
        "assert isinstance(food101_ds_val, tf.data.Dataset), \"Validation dataset is not a TF Dataset\"\n",
        "assert isinstance(food101_ds_test, tf.data.Dataset), \"Test dataset is not a TF Dataset\"\n",
        "\n",
        "get_label_name = metadata.features['label'].int2str\n",
        "num_training = tf.data.experimental.cardinality(food101_ds_train).numpy()\n",
        "print(\"Num training images: \", str(num_training))\n",
        "print(\"Num Val images: \", str(tf.data.experimental.cardinality(food101_ds_val).numpy()))\n",
        "print(\"Num test images: \", str(tf.data.experimental.cardinality(food101_ds_test).numpy()))"
      ],
      "execution_count": 7,
      "outputs": [
        {
          "output_type": "stream",
          "text": [
            "\u001b[1mDownloading and preparing dataset food101/2.0.0 (download: 4.65 GiB, generated: Unknown size, total: 4.65 GiB) to /root/tensorflow_datasets/food101/2.0.0...\u001b[0m\n"
          ],
          "name": "stdout"
        },
        {
          "output_type": "display_data",
          "data": {
            "application/vnd.jupyter.widget-view+json": {
              "model_id": "9309a49954a04b38a736371605ef91c8",
              "version_minor": 0,
              "version_major": 2
            },
            "text/plain": [
              "HBox(children=(FloatProgress(value=1.0, bar_style='info', description='Dl Completed...', max=1.0, style=Progre…"
            ]
          },
          "metadata": {
            "tags": []
          }
        },
        {
          "output_type": "display_data",
          "data": {
            "application/vnd.jupyter.widget-view+json": {
              "model_id": "26d5e778585740f899b70318779394ae",
              "version_minor": 0,
              "version_major": 2
            },
            "text/plain": [
              "HBox(children=(FloatProgress(value=1.0, bar_style='info', description='Dl Size...', max=1.0, style=ProgressSty…"
            ]
          },
          "metadata": {
            "tags": []
          }
        },
        {
          "output_type": "display_data",
          "data": {
            "application/vnd.jupyter.widget-view+json": {
              "model_id": "24c6034fa8674209b7621eb1065cc3bc",
              "version_minor": 0,
              "version_major": 2
            },
            "text/plain": [
              "HBox(children=(FloatProgress(value=1.0, bar_style='info', description='Extraction completed...', max=1.0, styl…"
            ]
          },
          "metadata": {
            "tags": []
          }
        },
        {
          "output_type": "stream",
          "text": [
            "\n",
            "\n",
            "\n",
            "\n",
            "\n",
            "\n"
          ],
          "name": "stdout"
        },
        {
          "output_type": "display_data",
          "data": {
            "application/vnd.jupyter.widget-view+json": {
              "model_id": "a2e73946c3ab49e8b7078bb3d750ed70",
              "version_minor": 0,
              "version_major": 2
            },
            "text/plain": [
              "HBox(children=(FloatProgress(value=1.0, bar_style='info', max=1.0), HTML(value='')))"
            ]
          },
          "metadata": {
            "tags": []
          }
        },
        {
          "output_type": "stream",
          "text": [
            "\rShuffling and writing examples to /root/tensorflow_datasets/food101/2.0.0.incomplete0D9LEA/food101-train.tfrecord\n"
          ],
          "name": "stdout"
        },
        {
          "output_type": "display_data",
          "data": {
            "application/vnd.jupyter.widget-view+json": {
              "model_id": "94a0436c050e4b35ac02b1a213521d54",
              "version_minor": 0,
              "version_major": 2
            },
            "text/plain": [
              "HBox(children=(FloatProgress(value=0.0, max=75750.0), HTML(value='')))"
            ]
          },
          "metadata": {
            "tags": []
          }
        },
        {
          "output_type": "display_data",
          "data": {
            "application/vnd.jupyter.widget-view+json": {
              "model_id": "ed8d35001a5049aeaa42d391995087a8",
              "version_minor": 0,
              "version_major": 2
            },
            "text/plain": [
              "HBox(children=(FloatProgress(value=1.0, bar_style='info', max=1.0), HTML(value='')))"
            ]
          },
          "metadata": {
            "tags": []
          }
        },
        {
          "output_type": "stream",
          "text": [
            "Shuffling and writing examples to /root/tensorflow_datasets/food101/2.0.0.incomplete0D9LEA/food101-validation.tfrecord\n"
          ],
          "name": "stdout"
        },
        {
          "output_type": "display_data",
          "data": {
            "application/vnd.jupyter.widget-view+json": {
              "model_id": "a12f6784d41541a1b87c50caf9e7cbc8",
              "version_minor": 0,
              "version_major": 2
            },
            "text/plain": [
              "HBox(children=(FloatProgress(value=0.0, max=25250.0), HTML(value='')))"
            ]
          },
          "metadata": {
            "tags": []
          }
        },
        {
          "output_type": "stream",
          "text": [
            "\u001b[1mDataset food101 downloaded and prepared to /root/tensorflow_datasets/food101/2.0.0. Subsequent calls will reuse this data.\u001b[0m\n",
            "Split Keys:  ['train', 'validation']\n",
            "info.features:  FeaturesDict({\n",
            "    'image': Image(shape=(None, None, 3), dtype=tf.uint8),\n",
            "    'label': ClassLabel(shape=(), dtype=tf.int64, num_classes=101),\n",
            "})\n",
            "train type before:  <class 'tensorflow.python.data.ops.dataset_ops.PrefetchDataset'>\n",
            "Num of Classes:  101\n",
            "Lengths:  65145 25250 10605\n",
            "Num training images:  65145\n",
            "Num Val images:  25250\n",
            "Num test images:  10605\n"
          ],
          "name": "stdout"
        }
      ]
    },
    {
      "cell_type": "code",
      "metadata": {
        "colab": {
          "base_uri": "https://localhost:8080/",
          "height": 234
        },
        "id": "U1t5-3tqJ3hF",
        "outputId": "34bdc3e6-bb19-4963-83d1-e518b8ffa4e7"
      },
      "source": [
        "# ---------- Pre-Processing Dataset ---------- #\n",
        "# Resizing training and validation datasets to be (512, 512, 3)\n",
        "# Applying One-Hot encoding to Labels\n",
        "# DO NOT APPLY THIS TO THE TESTING SET\n",
        "print(\"train type before: \", type(food101_ds_train))\n",
        "food101_ds_train = food101_ds_train.map(lambda im_t, l_t: (data_scaling_resizing(im_t, training=True), l_t))\n",
        "food101_ds_train = food101_ds_train.map(lambda im_t, l_t: (im_t, tf.one_hot(l_t,depth=101)))\n",
        "food101_ds_val = food101_ds_val.map(lambda im_v, l_v: (data_scaling_resizing(im_v, training=True), l_v))\n",
        "food101_ds_val = food101_ds_val.map(lambda im_v, l_v: (im_v, tf.one_hot(l_v,depth=101)))\n",
        "food101_ds_train = food101_ds_train.batch(batch)\n",
        "food101_ds_val = food101_ds_val.batch(batch)\n",
        "print(\"train type after: \", type(food101_ds_train))\n",
        "\n",
        "i = 0\n",
        "for img, lbl in food101_ds_train:\n",
        "    i += 1\n",
        "    print(\"Train take one: \", img.shape, \" lbl shape: \", lbl.shape, \" lbl class: \", type(lbl) )\n",
        "    if i > 4:\n",
        "        break"
      ],
      "execution_count": 1,
      "outputs": [
        {
          "output_type": "error",
          "ename": "NameError",
          "evalue": "ignored",
          "traceback": [
            "\u001b[0;31m---------------------------------------------------------------------------\u001b[0m",
            "\u001b[0;31mNameError\u001b[0m                                 Traceback (most recent call last)",
            "\u001b[0;32m<ipython-input-1-9fd72463ec57>\u001b[0m in \u001b[0;36m<module>\u001b[0;34m()\u001b[0m\n\u001b[1;32m      3\u001b[0m \u001b[0;31m# Applying One-Hot encoding to Labels\u001b[0m\u001b[0;34m\u001b[0m\u001b[0;34m\u001b[0m\u001b[0;34m\u001b[0m\u001b[0m\n\u001b[1;32m      4\u001b[0m \u001b[0;31m# DO NOT APPLY THIS TO THE TESTING SET\u001b[0m\u001b[0;34m\u001b[0m\u001b[0;34m\u001b[0m\u001b[0;34m\u001b[0m\u001b[0m\n\u001b[0;32m----> 5\u001b[0;31m \u001b[0mprint\u001b[0m\u001b[0;34m(\u001b[0m\u001b[0;34m\"train type before: \"\u001b[0m\u001b[0;34m,\u001b[0m \u001b[0mtype\u001b[0m\u001b[0;34m(\u001b[0m\u001b[0mfood101_ds_train\u001b[0m\u001b[0;34m)\u001b[0m\u001b[0;34m)\u001b[0m\u001b[0;34m\u001b[0m\u001b[0;34m\u001b[0m\u001b[0m\n\u001b[0m\u001b[1;32m      6\u001b[0m \u001b[0mfood101_ds_train\u001b[0m \u001b[0;34m=\u001b[0m \u001b[0mfood101_ds_train\u001b[0m\u001b[0;34m.\u001b[0m\u001b[0mmap\u001b[0m\u001b[0;34m(\u001b[0m\u001b[0;32mlambda\u001b[0m \u001b[0mim_t\u001b[0m\u001b[0;34m,\u001b[0m \u001b[0ml_t\u001b[0m\u001b[0;34m:\u001b[0m \u001b[0;34m(\u001b[0m\u001b[0mdata_scaling_resizing\u001b[0m\u001b[0;34m(\u001b[0m\u001b[0mim_t\u001b[0m\u001b[0;34m,\u001b[0m \u001b[0mtraining\u001b[0m\u001b[0;34m=\u001b[0m\u001b[0;32mTrue\u001b[0m\u001b[0;34m)\u001b[0m\u001b[0;34m,\u001b[0m \u001b[0ml_t\u001b[0m\u001b[0;34m)\u001b[0m\u001b[0;34m)\u001b[0m\u001b[0;34m\u001b[0m\u001b[0;34m\u001b[0m\u001b[0m\n\u001b[1;32m      7\u001b[0m \u001b[0mfood101_ds_train\u001b[0m \u001b[0;34m=\u001b[0m \u001b[0mfood101_ds_train\u001b[0m\u001b[0;34m.\u001b[0m\u001b[0mmap\u001b[0m\u001b[0;34m(\u001b[0m\u001b[0;32mlambda\u001b[0m \u001b[0mim_t\u001b[0m\u001b[0;34m,\u001b[0m \u001b[0ml_t\u001b[0m\u001b[0;34m:\u001b[0m \u001b[0;34m(\u001b[0m\u001b[0mim_t\u001b[0m\u001b[0;34m,\u001b[0m \u001b[0mtf\u001b[0m\u001b[0;34m.\u001b[0m\u001b[0mone_hot\u001b[0m\u001b[0;34m(\u001b[0m\u001b[0ml_t\u001b[0m\u001b[0;34m,\u001b[0m\u001b[0mdepth\u001b[0m\u001b[0;34m=\u001b[0m\u001b[0;36m101\u001b[0m\u001b[0;34m)\u001b[0m\u001b[0;34m)\u001b[0m\u001b[0;34m)\u001b[0m\u001b[0;34m\u001b[0m\u001b[0;34m\u001b[0m\u001b[0m\n",
            "\u001b[0;31mNameError\u001b[0m: name 'food101_ds_train' is not defined"
          ]
        }
      ]
    },
    {
      "cell_type": "markdown",
      "metadata": {
        "id": "-HF0aW-Q-wps"
      },
      "source": [
        "# **Training**"
      ]
    },
    {
      "cell_type": "code",
      "metadata": {
        "colab": {
          "base_uri": "https://localhost:8080/",
          "height": 234
        },
        "id": "0ifpMKcgDfCY",
        "outputId": "873c2275-bf3e-4d28-863a-892f676d2ee4"
      },
      "source": [
        "# ---------- Training Models ---------- #\n",
        "print(\"Training Model \", MODEL, \"  Norm Type: \", norm_type, \"  Data Aug: \", data_augment)\n",
        "k = 128\n",
        "optimizer = 0\n",
        "learning_rate = 1e-4\n",
        "if MODEL == 1:\n",
        "    model1 = model_1(num_classes, k)  \n",
        "    model1 = compile_model(model1, learning_rate, optimizer)\n",
        "    history1 = model1.fit(food101_ds_train, validation_data=food101_ds_val,\n",
        "                          epochs=EPOCHS, verbose=1, batch_size=batch,\n",
        "                          callbacks=[early_stop, monitor_func,\n",
        "                                     lr_schedule, tensorboard_callback])\n",
        "elif MODEL == 2:\n",
        "    food101_ds_train = food101_ds_train.map(lambda im_t, l_t: (data_augmentation_flip_rotate(im_t, training=True), l_t))\n",
        "    food101_ds_val = food101_ds_val.map(lambda im_v, l_v: (data_augmentation_flip_rotate(im_v, training=True), l_v))\n",
        "\n",
        "    model2 = model_1(num_classes, k)\n",
        "    model2 = compile_model(model2, learning_rate, optimizer)\n",
        "    history2 = model2.fit(food101_ds_train, validation_data=food101_ds_val,\n",
        "                          epochs=EPOCHS, verbose=1,\n",
        "                          callbacks=[early_stop, monitor_func,\n",
        "                                     lr_schedule, tensorboard_callback])\n",
        "elif MODEL == 3:\n",
        "    model3 = model_2(num_classes)\n",
        "    model3 = compile_model(model3, learning_rate, optimizer)\n",
        "    history3 = model3.fit(food101_ds_train, validation_data=food101_ds_val,\n",
        "                          epochs=EPOCHS, verbose=1,\n",
        "                          callbacks=[early_stop, monitor_func,\n",
        "                                     lr_schedule, tensorboard_callback])\n",
        "elif MODEL == 4:\n",
        "    food101_ds_train = food101_ds_train.map(lambda im_t, l_t: (data_augmentation_flip_rotate(im_t, training=True), l_t))\n",
        "    food101_ds_val = food101_ds_val.map(lambda im_v, l_v: (data_augmentation_flip_rotate(im_v, training=True), l_v))\n",
        "\n",
        "    model4 = model_2(num_classes)\n",
        "    model4 = compile_model(model4, learning_rate, optimizer)\n",
        "    history4 = model4.fit(food101_ds_train, validation_data=food101_ds_val,\n",
        "                          epochs=EPOCHS, verbose=1,\n",
        "                          callbacks=[early_stop, monitor_func,\n",
        "                                     lr_schedule, tensorboard_callback])\n",
        "# Transfer Learning\n",
        "elif MODEL ==5:\n",
        "        print(\"Tranfer learning selected. Proceed to next cell\") # seperate from other models due to coarse and mine model training needed\n",
        "\n",
        "else:\n",
        "  print(\"error! no valid model selected\")\n",
        "\n",
        "# TensorBoard Logging ------- Optional\n",
        "writer = tf.summary.create_file_writer(LOG_DIR)"
      ],
      "execution_count": 2,
      "outputs": [
        {
          "output_type": "error",
          "ename": "NameError",
          "evalue": "ignored",
          "traceback": [
            "\u001b[0;31m---------------------------------------------------------------------------\u001b[0m",
            "\u001b[0;31mNameError\u001b[0m                                 Traceback (most recent call last)",
            "\u001b[0;32m<ipython-input-2-100892c74608>\u001b[0m in \u001b[0;36m<module>\u001b[0;34m()\u001b[0m\n\u001b[1;32m      1\u001b[0m \u001b[0;31m# ---------- Training Models ---------- #\u001b[0m\u001b[0;34m\u001b[0m\u001b[0;34m\u001b[0m\u001b[0;34m\u001b[0m\u001b[0m\n\u001b[0;32m----> 2\u001b[0;31m \u001b[0mprint\u001b[0m\u001b[0;34m(\u001b[0m\u001b[0;34m\"Training Model \"\u001b[0m\u001b[0;34m,\u001b[0m \u001b[0mMODEL\u001b[0m\u001b[0;34m,\u001b[0m \u001b[0;34m\"  Norm Type: \"\u001b[0m\u001b[0;34m,\u001b[0m \u001b[0mnorm_type\u001b[0m\u001b[0;34m,\u001b[0m \u001b[0;34m\"  Data Aug: \"\u001b[0m\u001b[0;34m,\u001b[0m \u001b[0mdata_augment\u001b[0m\u001b[0;34m)\u001b[0m\u001b[0;34m\u001b[0m\u001b[0;34m\u001b[0m\u001b[0m\n\u001b[0m\u001b[1;32m      3\u001b[0m \u001b[0mk\u001b[0m \u001b[0;34m=\u001b[0m \u001b[0;36m128\u001b[0m\u001b[0;34m\u001b[0m\u001b[0;34m\u001b[0m\u001b[0m\n\u001b[1;32m      4\u001b[0m \u001b[0moptimizer\u001b[0m \u001b[0;34m=\u001b[0m \u001b[0;36m0\u001b[0m\u001b[0;34m\u001b[0m\u001b[0;34m\u001b[0m\u001b[0m\n\u001b[1;32m      5\u001b[0m \u001b[0mlearning_rate\u001b[0m \u001b[0;34m=\u001b[0m \u001b[0;36m1e-4\u001b[0m\u001b[0;34m\u001b[0m\u001b[0;34m\u001b[0m\u001b[0m\n",
            "\u001b[0;31mNameError\u001b[0m: name 'MODEL' is not defined"
          ]
        }
      ]
    },
    {
      "cell_type": "markdown",
      "metadata": {
        "id": "Oynh7Bv3MLri"
      },
      "source": [
        "## **Transfer Learning**"
      ]
    },
    {
      "cell_type": "code",
      "metadata": {
        "colab": {
          "base_uri": "https://localhost:8080/"
        },
        "id": "lcf-1eglLAWm",
        "outputId": "e218e3a5-f806-4cec-8e36-2216f75396f6"
      },
      "source": [
        "if MODEL == 5: #Transfer Learning model setup (VGG16)\n",
        "  img_height = 512\n",
        "  img_width = 512\n",
        "\n",
        "  base_VGG16 = tf.keras.applications.VGG16( # Base model must have unique name as multiple models are in play\n",
        "    weights='imagenet',  # Load weights pre-trained on ImageNet.\n",
        "    input_shape=(img_height, img_width, 3), # Recieves input shape as specified\n",
        "    include_top=False) # removes prediction layer so we can add our own\n",
        "\n",
        "  base_VGG16.trainable = False # freezes model weights so we can train a new prediction layer\n",
        "  input_image = tf.keras.Input(shape=(img_height, img_width, 3)) # define input size for model\n",
        "  x1 = base_VGG16(input_image, training=False) # this layer is the VGG16 model we brought in without predicting layer\n",
        "  x2 = tf.keras.layers.Flatten()(x1) #flattens VGG16 output for dense prediction layer\n",
        "  out = tf.keras.layers.Dense(num_classes,activation = 'softmax')(x2)\n",
        "  model_VGG16 = tf.keras.Model(inputs = input_image, outputs =out) # Model must have unique name as multiple models are in play (VGG16, CNN)\n",
        "\n",
        "  print(model_VGG16.summary())\n",
        "else:\n",
        "  print(\"Transfer learning not selected\")"
      ],
      "execution_count": null,
      "outputs": [
        {
          "output_type": "stream",
          "text": [
            "Downloading data from https://storage.googleapis.com/tensorflow/keras-applications/vgg16/vgg16_weights_tf_dim_ordering_tf_kernels_notop.h5\n",
            "58892288/58889256 [==============================] - 0s 0us/step\n",
            "Model: \"model\"\n",
            "_________________________________________________________________\n",
            "Layer (type)                 Output Shape              Param #   \n",
            "=================================================================\n",
            "input_2 (InputLayer)         [(None, 512, 512, 3)]     0         \n",
            "_________________________________________________________________\n",
            "vgg16 (Functional)           (None, 16, 16, 512)       14714688  \n",
            "_________________________________________________________________\n",
            "flatten (Flatten)            (None, 131072)            0         \n",
            "_________________________________________________________________\n",
            "dense (Dense)                (None, 101)               13238373  \n",
            "=================================================================\n",
            "Total params: 27,953,061\n",
            "Trainable params: 13,238,373\n",
            "Non-trainable params: 14,714,688\n",
            "_________________________________________________________________\n",
            "None\n"
          ],
          "name": "stdout"
        }
      ]
    },
    {
      "cell_type": "code",
      "metadata": {
        "colab": {
          "base_uri": "https://localhost:8080/"
        },
        "id": "wjIURyr2LuIK",
        "outputId": "ce733a9c-8b9b-466c-f150-2ad22a8744f4"
      },
      "source": [
        "if MODEL == 5: #load in weights if training is broken into sessions due to long training times\n",
        "  print(\"Transfer learning selected\")\n",
        "  #from numpy import loadtxt\n",
        "  #from tensorflow.keras.models import load_model\n",
        "\n",
        "  #model_VGG16 = load_model(\"VGG16_Team_18_Final_Project__pft_apr12.h5\") #change date, pft = pre fine tuning\n",
        "  ##check to make sure it worked\n",
        "  #model_VGG16.summary()\n",
        "\n",
        "else:\n",
        "  print(\"Transfer learning not selected\")\n"
      ],
      "execution_count": null,
      "outputs": [
        {
          "output_type": "stream",
          "text": [
            "Transfer learning selected\n"
          ],
          "name": "stdout"
        }
      ]
    },
    {
      "cell_type": "code",
      "metadata": {
        "colab": {
          "base_uri": "https://localhost:8080/",
          "height": 248
        },
        "id": "OBQGm-yoMzPH",
        "outputId": "ceda0b51-b386-46d6-930e-909fddf8fabd"
      },
      "source": [
        "if MODEL == 5: #compile and fit model (Coarse fit)\n",
        "  model_VGG16.compile(optimizer=tf.keras.optimizers.Adam(lr = 1e-4),\n",
        "              loss='categorical_crossentropy',\n",
        "              metrics=['accuracy'])\n",
        "\n",
        "\n",
        "  model_VGG16.fit(food101_ds_train,epochs = EPOCHS, \\\n",
        "        verbose = 1, callbacks= [early_stop, monitor_func, lr_schedule],validation_data= food101_ds_val) # check that data names are correct\n",
        "\n",
        "else:\n",
        "  print(\"Transfer learning not selected\")"
      ],
      "execution_count": null,
      "outputs": [
        {
          "output_type": "error",
          "ename": "NameError",
          "evalue": "ignored",
          "traceback": [
            "\u001b[0;31m---------------------------------------------------------------------------\u001b[0m",
            "\u001b[0;31mNameError\u001b[0m                                 Traceback (most recent call last)",
            "\u001b[0;32m<ipython-input-36-63c16e6c0db0>\u001b[0m in \u001b[0;36m<module>\u001b[0;34m()\u001b[0m\n\u001b[1;32m      5\u001b[0m \u001b[0;34m\u001b[0m\u001b[0m\n\u001b[1;32m      6\u001b[0m \u001b[0;34m\u001b[0m\u001b[0m\n\u001b[0;32m----> 7\u001b[0;31m   \u001b[0mmodel_VGG16\u001b[0m\u001b[0;34m.\u001b[0m\u001b[0mfit\u001b[0m\u001b[0;34m(\u001b[0m\u001b[0mfood101_ds_train\u001b[0m\u001b[0;34m,\u001b[0m\u001b[0mepochs\u001b[0m \u001b[0;34m=\u001b[0m \u001b[0mEPOCHS\u001b[0m\u001b[0;34m,\u001b[0m         \u001b[0mverbose\u001b[0m \u001b[0;34m=\u001b[0m \u001b[0;36m1\u001b[0m\u001b[0;34m,\u001b[0m \u001b[0mcallbacks\u001b[0m\u001b[0;34m=\u001b[0m \u001b[0;34m[\u001b[0m\u001b[0mearly_stop\u001b[0m\u001b[0;34m,\u001b[0m \u001b[0mmonitor_func\u001b[0m\u001b[0;34m,\u001b[0m \u001b[0mlr_schedule\u001b[0m\u001b[0;34m]\u001b[0m\u001b[0;34m,\u001b[0m\u001b[0mvalidation_data\u001b[0m\u001b[0;34m=\u001b[0m \u001b[0mfood101_ds_val\u001b[0m\u001b[0;34m)\u001b[0m \u001b[0;31m# check that data names are correct\u001b[0m\u001b[0;34m\u001b[0m\u001b[0;34m\u001b[0m\u001b[0m\n\u001b[0m\u001b[1;32m      8\u001b[0m \u001b[0;34m\u001b[0m\u001b[0m\n\u001b[1;32m      9\u001b[0m \u001b[0;32melse\u001b[0m\u001b[0;34m:\u001b[0m\u001b[0;34m\u001b[0m\u001b[0;34m\u001b[0m\u001b[0m\n",
            "\u001b[0;31mNameError\u001b[0m: name 'food101_ds_train' is not defined"
          ]
        }
      ]
    },
    {
      "cell_type": "code",
      "metadata": {
        "colab": {
          "base_uri": "https://localhost:8080/"
        },
        "id": "IfUtDkX2M_cP",
        "outputId": "45c76fe3-3f3e-489d-8dfc-0b2d5f05039f"
      },
      "source": [
        "if MODEL == 5: #compile and fit model\n",
        "  print(\"Transfer learning selected\")\n",
        "  ##save VGG16 model weights - to be used if training is broken into sessions\n",
        "  #model_VGG16.save(\"VGG16_Team_18_Final_Project__pft_apr12.h5.h5\") #ensure date correct\n",
        "\n",
        "  #print(\"saved model weights\")\n",
        "\n",
        "else:\n",
        "  print(\"Transfer learning not selected\")"
      ],
      "execution_count": null,
      "outputs": [
        {
          "output_type": "stream",
          "text": [
            "Transfer learning selected\n"
          ],
          "name": "stdout"
        }
      ]
    },
    {
      "cell_type": "markdown",
      "metadata": {
        "id": "6V7XHGCiNbno"
      },
      "source": [
        "### Transfer Learning Fine Tuning"
      ]
    },
    {
      "cell_type": "code",
      "metadata": {
        "colab": {
          "base_uri": "https://localhost:8080/",
          "height": 537
        },
        "id": "v0o9WbKBNRtu",
        "outputId": "f570d4d7-cd8a-4079-e3d9-ee46a362daf6"
      },
      "source": [
        "if MODEL == 5: #Fine tuning model\n",
        "  model_VGG16.trainable = True\n",
        "  #model_VGG16 = load_model('VGG16_Team_18_Final_Project_pft_apr12.h5') #change date -to be used if training is broken into sessions or just training fine tunin, pft = pre fine tuning\n",
        "  model_VGG16.compile(optimizer=tf.keras.optimizers.Adam(lr = 1e-9), # Very low learning rate to fine tune\n",
        "               loss='categorical_crossentropy',\n",
        "               metrics=['accuracy'])\n",
        "  print(model_VGG16.summary())\n",
        "  model_VGG16.fit(food101_ds_train, epochs = EPOCHS, \\\n",
        "            verbose = 1, callbacks= [early_stop, monitor_func, lr_schedule],validation_data=food101_ds_val)\n",
        "\n",
        "else:\n",
        "  print(\"Transfer learning not selected\")"
      ],
      "execution_count": null,
      "outputs": [
        {
          "output_type": "stream",
          "text": [
            "Model: \"model\"\n",
            "_________________________________________________________________\n",
            "Layer (type)                 Output Shape              Param #   \n",
            "=================================================================\n",
            "input_2 (InputLayer)         [(None, 512, 512, 3)]     0         \n",
            "_________________________________________________________________\n",
            "vgg16 (Functional)           (None, 16, 16, 512)       14714688  \n",
            "_________________________________________________________________\n",
            "flatten (Flatten)            (None, 131072)            0         \n",
            "_________________________________________________________________\n",
            "dense (Dense)                (None, 101)               13238373  \n",
            "=================================================================\n",
            "Total params: 27,953,061\n",
            "Trainable params: 27,953,061\n",
            "Non-trainable params: 0\n",
            "_________________________________________________________________\n",
            "None\n"
          ],
          "name": "stdout"
        },
        {
          "output_type": "error",
          "ename": "NameError",
          "evalue": "ignored",
          "traceback": [
            "\u001b[0;31m---------------------------------------------------------------------------\u001b[0m",
            "\u001b[0;31mNameError\u001b[0m                                 Traceback (most recent call last)",
            "\u001b[0;32m<ipython-input-38-9eb0b3be0c66>\u001b[0m in \u001b[0;36m<module>\u001b[0;34m()\u001b[0m\n\u001b[1;32m      6\u001b[0m                metrics=['accuracy'])\n\u001b[1;32m      7\u001b[0m   \u001b[0mprint\u001b[0m\u001b[0;34m(\u001b[0m\u001b[0mmodel_VGG16\u001b[0m\u001b[0;34m.\u001b[0m\u001b[0msummary\u001b[0m\u001b[0;34m(\u001b[0m\u001b[0;34m)\u001b[0m\u001b[0;34m)\u001b[0m\u001b[0;34m\u001b[0m\u001b[0;34m\u001b[0m\u001b[0m\n\u001b[0;32m----> 8\u001b[0;31m   \u001b[0mmodel_VGG16\u001b[0m\u001b[0;34m.\u001b[0m\u001b[0mfit\u001b[0m\u001b[0;34m(\u001b[0m\u001b[0mfood101_ds_train\u001b[0m\u001b[0;34m,\u001b[0m \u001b[0mepochs\u001b[0m \u001b[0;34m=\u001b[0m \u001b[0mEPOCHS\u001b[0m\u001b[0;34m,\u001b[0m             \u001b[0mverbose\u001b[0m \u001b[0;34m=\u001b[0m \u001b[0;36m1\u001b[0m\u001b[0;34m,\u001b[0m \u001b[0mcallbacks\u001b[0m\u001b[0;34m=\u001b[0m \u001b[0;34m[\u001b[0m\u001b[0mearly_stop\u001b[0m\u001b[0;34m,\u001b[0m \u001b[0mmonitor_func\u001b[0m\u001b[0;34m,\u001b[0m \u001b[0mlr_schedule\u001b[0m\u001b[0;34m]\u001b[0m\u001b[0;34m,\u001b[0m\u001b[0mvalidation_data\u001b[0m\u001b[0;34m=\u001b[0m\u001b[0mfood101_ds_val\u001b[0m\u001b[0;34m)\u001b[0m\u001b[0;34m\u001b[0m\u001b[0;34m\u001b[0m\u001b[0m\n\u001b[0m\u001b[1;32m      9\u001b[0m \u001b[0;34m\u001b[0m\u001b[0m\n\u001b[1;32m     10\u001b[0m \u001b[0;32melse\u001b[0m\u001b[0;34m:\u001b[0m\u001b[0;34m\u001b[0m\u001b[0;34m\u001b[0m\u001b[0m\n",
            "\u001b[0;31mNameError\u001b[0m: name 'food101_ds_train' is not defined"
          ]
        }
      ]
    },
    {
      "cell_type": "code",
      "metadata": {
        "colab": {
          "base_uri": "https://localhost:8080/"
        },
        "id": "xMmpmdIFNgkd",
        "outputId": "e0446b77-b28b-4f39-9646-bb3c37249eb0"
      },
      "source": [
        "if MODEL == 5: #Save Model weights after fine tuning\n",
        "  print(\"Transfer learning selected\")\n",
        "  #model_VGG16.save('VGG16_Team_18_Final_Project_aft_apr12.h5') #saves weigths, aft = after fine tuning\n",
        "\n",
        "  #print(\"saved model weights\")\n",
        "\n",
        "else:\n",
        "  print(\"Transfer learning not selected\")"
      ],
      "execution_count": null,
      "outputs": [
        {
          "output_type": "stream",
          "text": [
            "Transfer learning selected\n"
          ],
          "name": "stdout"
        }
      ]
    },
    {
      "cell_type": "markdown",
      "metadata": {
        "id": "HaQKJIguOnhV"
      },
      "source": [
        "# **Visualization**"
      ]
    },
    {
      "cell_type": "code",
      "metadata": {
        "id": "MgXHKXRJ9aMV"
      },
      "source": [
        "# ---------- Visualizing Dataset ---------- #\n",
        "if VISUALIZE_IMG is True:\n",
        "    # Method 1 of splitting Dataset to Images and Labels\n",
        "    # train_X, train_Y = tuple(zip(*food101_ds_train))\n",
        "    # val_X, val_Y = tuple(zip(*food101_ds_val))\n",
        "    # test_X, test_Y = tuple(zip(*food101_ds_test))\n",
        "\n",
        "    # Method 2 of Splitting ataset to Images and Labels\n",
        "    train_X, train_Y = feature_extraction(food101_ds_train)\n",
        "    val_X, val_Y = feature_extraction(food101_ds_val)\n",
        "    test_X, test_Y = feature_extraction(food101_ds_test)\n",
        "\n",
        "    # Printing some information about the Dataset\n",
        "    print(\"info.features: \", metadata.features)\n",
        "    print(\"Split Keys: \", list(metadata.splits.keys()))\n",
        "    # print(\"Num of Training examples 1%: \", info.splits['validation[1%:]'].num_examples)\n",
        "    print(\"Num of Classes: \", metadata.features[\"label\"].num_classes)\n",
        "    # print(\"Classes: \", info.features[\"label\"].names)\n",
        "\n",
        "    # Displaying Figure of samples from Dataset\n",
        "    fig2 = tfds.show_examples(food101_ds_train, metadata, rows=5)\n",
        "\n",
        "    # Displaying Figure of samples from Dataset using PyPlot\n",
        "    i = 0\n",
        "    plt.figure(1)\n",
        "    for img, lbl in food101_ds_train:\n",
        "        i = i + 1\n",
        "        print(\"Train take one: \", img.shape, int(lbl))\n",
        "        ax = plt.subplot(2, 2, i)\n",
        "        plt.imshow(img.numpy().astype(\"uint8\"))\n",
        "        ax.set_title(get_label_name(lbl))\n",
        "        plt.axis(\"off\")\n",
        "        if i >= 4:\n",
        "            break\n",
        "\n",
        "    # Displaying Figure of samples from Dataset using PyPlot\n",
        "    # and using the Images and Labels dataset instead of the combined one (for comparison)\n",
        "    i = 0\n",
        "    plt.figure(2)\n",
        "    for item in train_X:\n",
        "        i = i + 1\n",
        "        print(\"Train img: \", item.shape)\n",
        "        ax = plt.subplot(2, 2, i)\n",
        "        plt.imshow(item.numpy().astype(\"uint8\"))\n",
        "        plt.axis(\"off\")\n",
        "        if i >= 4:\n",
        "            break\n",
        "\n",
        "    i = 0\n",
        "    for item in train_Y:\n",
        "        i = i + 1\n",
        "        print(\"Train lbl: \", int(item), \"  name: \", get_label_name(item))\n",
        "        if i >= 4:\n",
        "            break\n",
        "    plt.show()\n",
        "\n",
        "    # Displaying the Histogram\n",
        "    if HISTOGRAM is True:\n",
        "        sample_indexes = np.random.choice(np.arange(len(train_X), dtype=int), size=10, replace=False)\n",
        "        plt.figure()\n",
        "        for (ii, jj) in enumerate(sample_indexes):\n",
        "            plt.subplot(5, 6, ii + 1)\n",
        "            plt.imshow(train_X[jj], cmap=\"gray\")\n",
        "            plt.title(\"Label: %d\" % train_Y[jj])\n",
        "        plt.show()"
      ],
      "execution_count": null,
      "outputs": []
    },
    {
      "cell_type": "code",
      "metadata": {
        "id": "3AQoC-hMaKX1"
      },
      "source": [
        "import csv\n",
        "\n",
        "with open ('food101.csv') as f:\n",
        "  d = dict (filter(None, csv.reader(f)))"
      ],
      "execution_count": null,
      "outputs": []
    }
  ]
}